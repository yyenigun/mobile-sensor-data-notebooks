{
 "cells": [
  {
   "cell_type": "code",
   "execution_count": 1,
   "metadata": {
    "collapsed": true
   },
   "outputs": [],
   "source": [
    "import matplotlib\n",
    "import matplotlib.pyplot as plt\n",
    "import numpy as np\n",
    "from numpy import genfromtxt\n",
    "import pandas as pd\n",
    "import math as math\n",
    "import glob\n",
    "import os\n",
    "import plotly.plotly as py\n",
    "import plotly.graph_objs as go\n",
    "import plotly.offline as po\n",
    "from plotly.graph_objs import *\n",
    "import datetime\n",
    "import time"
   ]
  },
  {
   "cell_type": "markdown",
   "metadata": {},
   "source": [
    "## Algosnabs User 2 Base Phone - Load JSON Data"
   ]
  },
  {
   "cell_type": "code",
   "execution_count": 12,
   "metadata": {
    "collapsed": false
   },
   "outputs": [
    {
     "data": {
      "text/html": [
       "<div>\n",
       "<table border=\"1\" class=\"dataframe\">\n",
       "  <thead>\n",
       "    <tr style=\"text-align: right;\">\n",
       "      <th></th>\n",
       "      <th>pane_end</th>\n",
       "      <th>pane_start</th>\n",
       "      <th>timestamp</th>\n",
       "      <th>window_end</th>\n",
       "      <th>window_start</th>\n",
       "      <th>x</th>\n",
       "      <th>y</th>\n",
       "      <th>z</th>\n",
       "    </tr>\n",
       "  </thead>\n",
       "  <tbody>\n",
       "    <tr>\n",
       "      <th>0</th>\n",
       "      <td>1477984448000000000</td>\n",
       "      <td>1477984447000000000</td>\n",
       "      <td>[1477984447617643524, 1477984447617775191, 147...</td>\n",
       "      <td>1477984460000000000</td>\n",
       "      <td>1477984440000000000</td>\n",
       "      <td>[0.22026655, -0.05746084, 2.135628, 0.50757074...</td>\n",
       "      <td>[-10.295067, -9.988609, -12.047623, -10.783484...</td>\n",
       "      <td>[2.030283, 2.0398598, 3.3518825, 3.1028855, 2....</td>\n",
       "    </tr>\n",
       "    <tr>\n",
       "      <th>1</th>\n",
       "      <td>1477984449000000000</td>\n",
       "      <td>1477984448000000000</td>\n",
       "      <td>[1477984448000406857, 1477984448018624045, 147...</td>\n",
       "      <td>1477984460000000000</td>\n",
       "      <td>1477984440000000000</td>\n",
       "      <td>[1.2258313, 3.667917, 4.2042184, 3.3806129, 2....</td>\n",
       "      <td>[-14.135366, -13.101071, -10.936713, -10.7356,...</td>\n",
       "      <td>[4.7405194999999996, 2.5761611, -1.7429788, -2...</td>\n",
       "    </tr>\n",
       "    <tr>\n",
       "      <th>2</th>\n",
       "      <td>1477984450000000000</td>\n",
       "      <td>1477984449000000000</td>\n",
       "      <td>[1477984449004309930, 1477984449012952794, 147...</td>\n",
       "      <td>1477984460000000000</td>\n",
       "      <td>1477984440000000000</td>\n",
       "      <td>[-1.2545617, -1.1779473, -1.091756, -0.7852981...</td>\n",
       "      <td>[-11.281479, -11.300632, -11.051635, -10.77390...</td>\n",
       "      <td>[0.1436521, 0.22984336, 0.32561144000000003, 0...</td>\n",
       "    </tr>\n",
       "  </tbody>\n",
       "</table>\n",
       "</div>"
      ],
      "text/plain": [
       "              pane_end           pane_start  \\\n",
       "0  1477984448000000000  1477984447000000000   \n",
       "1  1477984449000000000  1477984448000000000   \n",
       "2  1477984450000000000  1477984449000000000   \n",
       "\n",
       "                                           timestamp           window_end  \\\n",
       "0  [1477984447617643524, 1477984447617775191, 147...  1477984460000000000   \n",
       "1  [1477984448000406857, 1477984448018624045, 147...  1477984460000000000   \n",
       "2  [1477984449004309930, 1477984449012952794, 147...  1477984460000000000   \n",
       "\n",
       "          window_start                                                  x  \\\n",
       "0  1477984440000000000  [0.22026655, -0.05746084, 2.135628, 0.50757074...   \n",
       "1  1477984440000000000  [1.2258313, 3.667917, 4.2042184, 3.3806129, 2....   \n",
       "2  1477984440000000000  [-1.2545617, -1.1779473, -1.091756, -0.7852981...   \n",
       "\n",
       "                                                   y  \\\n",
       "0  [-10.295067, -9.988609, -12.047623, -10.783484...   \n",
       "1  [-14.135366, -13.101071, -10.936713, -10.7356,...   \n",
       "2  [-11.281479, -11.300632, -11.051635, -10.77390...   \n",
       "\n",
       "                                                   z  \n",
       "0  [2.030283, 2.0398598, 3.3518825, 3.1028855, 2....  \n",
       "1  [4.7405194999999996, 2.5761611, -1.7429788, -2...  \n",
       "2  [0.1436521, 0.22984336, 0.32561144000000003, 0...  "
      ]
     },
     "execution_count": 12,
     "metadata": {},
     "output_type": "execute_result"
    }
   ],
   "source": [
    "dataSetPath = '/Users/yalcin.yenigun/Documents/TEZ/drive-download-20171015T072715Z-001'\n",
    "\n",
    "accelerometerFiles = glob.glob(dataSetPath + \"/JSON-User2-Base/phone/c-accelerometer-*.json\")\n",
    "accelerometerDf = pd.DataFrame()\n",
    "list_ = []\n",
    "for file_ in accelerometerFiles:\n",
    "    df = pd.read_json(file_, lines=True)\n",
    "    list_.append(df)\n",
    "accelerometerDf = pd.concat(list_)\n",
    "\n",
    "accelerometerDf.head(3)"
   ]
  },
  {
   "cell_type": "markdown",
   "metadata": {},
   "source": [
    "## Algosnabs User 2 Base Watch - Load JSON Data"
   ]
  },
  {
   "cell_type": "code",
   "execution_count": 16,
   "metadata": {
    "collapsed": false
   },
   "outputs": [
    {
     "data": {
      "text/html": [
       "<div>\n",
       "<table border=\"1\" class=\"dataframe\">\n",
       "  <thead>\n",
       "    <tr style=\"text-align: right;\">\n",
       "      <th></th>\n",
       "      <th>pane_end</th>\n",
       "      <th>pane_start</th>\n",
       "      <th>timestamp</th>\n",
       "      <th>window_end</th>\n",
       "      <th>window_start</th>\n",
       "      <th>x</th>\n",
       "      <th>y</th>\n",
       "      <th>z</th>\n",
       "    </tr>\n",
       "  </thead>\n",
       "  <tbody>\n",
       "    <tr>\n",
       "      <th>0</th>\n",
       "      <td>1476745383000000000</td>\n",
       "      <td>1476745382000000000</td>\n",
       "      <td>[1476745382976558750, 1476745382980398750, 147...</td>\n",
       "      <td>1476745400000000000</td>\n",
       "      <td>1476745380000000000</td>\n",
       "      <td>[-0.043085523, -0.08138376500000001, -0.071809...</td>\n",
       "      <td>[0.10053288, 0.10053288, 0.10053288, 0.0909583...</td>\n",
       "      <td>[9.569773, 9.569773, 9.550624, 9.550624, 9.531...</td>\n",
       "    </tr>\n",
       "    <tr>\n",
       "      <th>1</th>\n",
       "      <td>1476745384000000000</td>\n",
       "      <td>1476745383000000000</td>\n",
       "      <td>[1476745383003438750, 1476745383007278750, 147...</td>\n",
       "      <td>1476745400000000000</td>\n",
       "      <td>1476745380000000000</td>\n",
       "      <td>[-0.0718092, -0.043085523, -0.03351096, -0.014...</td>\n",
       "      <td>[0.05266008, 0.05266008, 0.043085523, 0.062234...</td>\n",
       "      <td>[9.531475, 9.512326, 9.560199, 9.531475, 9.560...</td>\n",
       "    </tr>\n",
       "    <tr>\n",
       "      <th>2</th>\n",
       "      <td>1476745385000000000</td>\n",
       "      <td>1476745384000000000</td>\n",
       "      <td>[1476745384003765742, 1476745384007718382, 147...</td>\n",
       "      <td>1476745400000000000</td>\n",
       "      <td>1476745380000000000</td>\n",
       "      <td>[-0.16755481, -0.16755481, -0.2154276, -0.2154...</td>\n",
       "      <td>[0.18670394, 0.12925656, 0.11010744400000001, ...</td>\n",
       "      <td>[9.502751, 9.493176, 9.5219, 9.464453, 9.47402...</td>\n",
       "    </tr>\n",
       "  </tbody>\n",
       "</table>\n",
       "</div>"
      ],
      "text/plain": [
       "              pane_end           pane_start  \\\n",
       "0  1476745383000000000  1476745382000000000   \n",
       "1  1476745384000000000  1476745383000000000   \n",
       "2  1476745385000000000  1476745384000000000   \n",
       "\n",
       "                                           timestamp           window_end  \\\n",
       "0  [1476745382976558750, 1476745382980398750, 147...  1476745400000000000   \n",
       "1  [1476745383003438750, 1476745383007278750, 147...  1476745400000000000   \n",
       "2  [1476745384003765742, 1476745384007718382, 147...  1476745400000000000   \n",
       "\n",
       "          window_start                                                  x  \\\n",
       "0  1476745380000000000  [-0.043085523, -0.08138376500000001, -0.071809...   \n",
       "1  1476745380000000000  [-0.0718092, -0.043085523, -0.03351096, -0.014...   \n",
       "2  1476745380000000000  [-0.16755481, -0.16755481, -0.2154276, -0.2154...   \n",
       "\n",
       "                                                   y  \\\n",
       "0  [0.10053288, 0.10053288, 0.10053288, 0.0909583...   \n",
       "1  [0.05266008, 0.05266008, 0.043085523, 0.062234...   \n",
       "2  [0.18670394, 0.12925656, 0.11010744400000001, ...   \n",
       "\n",
       "                                                   z  \n",
       "0  [9.569773, 9.569773, 9.550624, 9.550624, 9.531...  \n",
       "1  [9.531475, 9.512326, 9.560199, 9.531475, 9.560...  \n",
       "2  [9.502751, 9.493176, 9.5219, 9.464453, 9.47402...  "
      ]
     },
     "execution_count": 16,
     "metadata": {},
     "output_type": "execute_result"
    }
   ],
   "source": [
    "accelerometerWatchFiles = glob.glob(dataSetPath + \"/JSON-User2-Base/watch/c-accelerometer-*.json\")\n",
    "accelerometerWatchDf = pd.DataFrame()\n",
    "list_ = []\n",
    "for file_ in accelerometerWatchFiles:\n",
    "    df = pd.read_json(file_, lines=True)\n",
    "    list_.append(df)\n",
    "accelerometerWatchDf = pd.concat(list_)\n",
    "\n",
    "accelerometerWatchDf.head(3)"
   ]
  },
  {
   "cell_type": "markdown",
   "metadata": {},
   "source": [
    "## Current Place Labels"
   ]
  },
  {
   "cell_type": "code",
   "execution_count": 20,
   "metadata": {
    "collapsed": false
   },
   "outputs": [
    {
     "data": {
      "text/html": [
       "<div>\n",
       "<table border=\"1\" class=\"dataframe\">\n",
       "  <thead>\n",
       "    <tr style=\"text-align: right;\">\n",
       "      <th></th>\n",
       "      <th>layoutGroupId</th>\n",
       "      <th>surveyId</th>\n",
       "      <th>timestamp</th>\n",
       "      <th>value</th>\n",
       "      <th>viewId</th>\n",
       "      <th>wasInteracted</th>\n",
       "    </tr>\n",
       "  </thead>\n",
       "  <tbody>\n",
       "    <tr>\n",
       "      <th>0</th>\n",
       "      <td>Current Place</td>\n",
       "      <td>Current Place</td>\n",
       "      <td>2016-10-17 19:37:03.085</td>\n",
       "      <td>Home</td>\n",
       "      <td>cp2</td>\n",
       "      <td>True</td>\n",
       "    </tr>\n",
       "    <tr>\n",
       "      <th>1</th>\n",
       "      <td>Current Place</td>\n",
       "      <td>Current Place</td>\n",
       "      <td>2016-10-17 19:37:03.085</td>\n",
       "      <td>Walked</td>\n",
       "      <td>cp5</td>\n",
       "      <td>False</td>\n",
       "    </tr>\n",
       "    <tr>\n",
       "      <th>2</th>\n",
       "      <td>Current Place</td>\n",
       "      <td>Current Place</td>\n",
       "      <td>2016-10-17 19:37:03.137</td>\n",
       "      <td>Home</td>\n",
       "      <td>cp2</td>\n",
       "      <td>True</td>\n",
       "    </tr>\n",
       "  </tbody>\n",
       "</table>\n",
       "</div>"
      ],
      "text/plain": [
       "   layoutGroupId       surveyId               timestamp   value viewId  \\\n",
       "0  Current Place  Current Place 2016-10-17 19:37:03.085    Home    cp2   \n",
       "1  Current Place  Current Place 2016-10-17 19:37:03.085  Walked    cp5   \n",
       "2  Current Place  Current Place 2016-10-17 19:37:03.137    Home    cp2   \n",
       "\n",
       "  wasInteracted  \n",
       "0          True  \n",
       "1         False  \n",
       "2          True  "
      ]
     },
     "execution_count": 20,
     "metadata": {},
     "output_type": "execute_result"
    }
   ],
   "source": [
    "currentPlaceFiles = glob.glob(dataSetPath + \"/JSON-User2-Survey/s-Current*.json\")\n",
    "currentPlaceDf = pd.DataFrame()\n",
    "list_ = []\n",
    "for file_ in currentPlaceFiles:\n",
    "    df = pd.read_json(file_, lines=True)\n",
    "    list_.append(df)\n",
    "currentPlaceDf = pd.concat(list_)\n",
    "\n",
    "currentPlaceDf.head(3)"
   ]
  },
  {
   "cell_type": "markdown",
   "metadata": {},
   "source": [
    "## Sedentary Activity Labels"
   ]
  },
  {
   "cell_type": "code",
   "execution_count": 23,
   "metadata": {
    "collapsed": false,
    "scrolled": true
   },
   "outputs": [
    {
     "data": {
      "text/html": [
       "<div>\n",
       "<table border=\"1\" class=\"dataframe\">\n",
       "  <thead>\n",
       "    <tr style=\"text-align: right;\">\n",
       "      <th></th>\n",
       "      <th>layoutGroupId</th>\n",
       "      <th>surveyId</th>\n",
       "      <th>timestamp</th>\n",
       "      <th>value</th>\n",
       "      <th>viewId</th>\n",
       "      <th>wasInteracted</th>\n",
       "    </tr>\n",
       "  </thead>\n",
       "  <tbody>\n",
       "    <tr>\n",
       "      <th>0</th>\n",
       "      <td>Sedentary Activity</td>\n",
       "      <td>Sedentary Activity</td>\n",
       "      <td>2016-10-17 20:24:15.298</td>\n",
       "      <td>Yes</td>\n",
       "      <td>sa2</td>\n",
       "      <td>True</td>\n",
       "    </tr>\n",
       "    <tr>\n",
       "      <th>1</th>\n",
       "      <td>Sedentary Activity</td>\n",
       "      <td>Sedentary Activity</td>\n",
       "      <td>2016-10-17 20:24:15.298</td>\n",
       "      <td>Eating / Drinking</td>\n",
       "      <td>sa5</td>\n",
       "      <td>False</td>\n",
       "    </tr>\n",
       "    <tr>\n",
       "      <th>2</th>\n",
       "      <td>Sedentary Activity</td>\n",
       "      <td>Sedentary Activity</td>\n",
       "      <td>2016-10-17 20:24:15.345</td>\n",
       "      <td>Yes</td>\n",
       "      <td>sa2</td>\n",
       "      <td>True</td>\n",
       "    </tr>\n",
       "  </tbody>\n",
       "</table>\n",
       "</div>"
      ],
      "text/plain": [
       "        layoutGroupId            surveyId               timestamp  \\\n",
       "0  Sedentary Activity  Sedentary Activity 2016-10-17 20:24:15.298   \n",
       "1  Sedentary Activity  Sedentary Activity 2016-10-17 20:24:15.298   \n",
       "2  Sedentary Activity  Sedentary Activity 2016-10-17 20:24:15.345   \n",
       "\n",
       "               value viewId wasInteracted  \n",
       "0                Yes    sa2          True  \n",
       "1  Eating / Drinking    sa5         False  \n",
       "2                Yes    sa2          True  "
      ]
     },
     "execution_count": 23,
     "metadata": {},
     "output_type": "execute_result"
    }
   ],
   "source": [
    "sedentaryActivityFiles = glob.glob(dataSetPath + \"/JSON-User2-Survey/s-Sedentary*.json\")\n",
    "sedentaryActivityDf = pd.DataFrame()\n",
    "list_ = []\n",
    "for file_ in sedentaryActivityFiles:\n",
    "    df = pd.read_json(file_, lines=True)\n",
    "    list_.append(df)\n",
    "sedentaryActivityDf = pd.concat(list_)\n",
    "\n",
    "sedentaryActivityDf.head(3)"
   ]
  },
  {
   "cell_type": "markdown",
   "metadata": {},
   "source": [
    "## Label Meta - Playing Video Game"
   ]
  },
  {
   "cell_type": "code",
   "execution_count": 25,
   "metadata": {
    "collapsed": false
   },
   "outputs": [
    {
     "data": {
      "text/html": [
       "<div>\n",
       "<table border=\"1\" class=\"dataframe\">\n",
       "  <thead>\n",
       "    <tr style=\"text-align: right;\">\n",
       "      <th></th>\n",
       "      <th>layoutGroupId</th>\n",
       "      <th>surveyId</th>\n",
       "      <th>timestamp</th>\n",
       "      <th>value</th>\n",
       "      <th>viewId</th>\n",
       "      <th>wasInteracted</th>\n",
       "    </tr>\n",
       "  </thead>\n",
       "  <tbody>\n",
       "    <tr>\n",
       "      <th>0</th>\n",
       "      <td>Playing Video Game</td>\n",
       "      <td>Playing Video Game</td>\n",
       "      <td>2016-10-26 04:32:52.415</td>\n",
       "      <td>Back RIGHT pants pocket</td>\n",
       "      <td>vg4</td>\n",
       "      <td>True</td>\n",
       "    </tr>\n",
       "    <tr>\n",
       "      <th>1</th>\n",
       "      <td>Playing Video Game</td>\n",
       "      <td>Playing Video Game</td>\n",
       "      <td>2016-10-26 04:32:52.415</td>\n",
       "      <td>On left wrist</td>\n",
       "      <td>vg7</td>\n",
       "      <td>False</td>\n",
       "    </tr>\n",
       "    <tr>\n",
       "      <th>2</th>\n",
       "      <td>Playing Video Game</td>\n",
       "      <td>Playing Video Game</td>\n",
       "      <td>2016-10-26 04:32:52.441</td>\n",
       "      <td>Back RIGHT pants pocket</td>\n",
       "      <td>vg4</td>\n",
       "      <td>True</td>\n",
       "    </tr>\n",
       "  </tbody>\n",
       "</table>\n",
       "</div>"
      ],
      "text/plain": [
       "        layoutGroupId            surveyId               timestamp  \\\n",
       "0  Playing Video Game  Playing Video Game 2016-10-26 04:32:52.415   \n",
       "1  Playing Video Game  Playing Video Game 2016-10-26 04:32:52.415   \n",
       "2  Playing Video Game  Playing Video Game 2016-10-26 04:32:52.441   \n",
       "\n",
       "                     value viewId wasInteracted  \n",
       "0  Back RIGHT pants pocket    vg4          True  \n",
       "1            On left wrist    vg7         False  \n",
       "2  Back RIGHT pants pocket    vg4          True  "
      ]
     },
     "execution_count": 25,
     "metadata": {},
     "output_type": "execute_result"
    }
   ],
   "source": [
    "labelMetaPlayingVideoGamesFiles = glob.glob(dataSetPath + \"/JSON-User2-LabelMeta/s-Playing Video Game*.json\")\n",
    "labelMetaPlayingVideoGamesDf = pd.DataFrame()\n",
    "list_ = []\n",
    "for file_ in labelMetaPlayingVideoGamesFiles:\n",
    "    df = pd.read_json(file_, lines=True)\n",
    "    list_.append(df)\n",
    "labelMetaPlayingVideoGamesDf = pd.concat(list_)\n",
    "\n",
    "labelMetaPlayingVideoGamesDf.head(3)"
   ]
  },
  {
   "cell_type": "markdown",
   "metadata": {},
   "source": [
    "## Label Meta - Walking"
   ]
  },
  {
   "cell_type": "code",
   "execution_count": 26,
   "metadata": {
    "collapsed": false
   },
   "outputs": [
    {
     "data": {
      "text/html": [
       "<div>\n",
       "<table border=\"1\" class=\"dataframe\">\n",
       "  <thead>\n",
       "    <tr style=\"text-align: right;\">\n",
       "      <th></th>\n",
       "      <th>layoutGroupId</th>\n",
       "      <th>surveyId</th>\n",
       "      <th>timestamp</th>\n",
       "      <th>value</th>\n",
       "      <th>viewId</th>\n",
       "      <th>wasInteracted</th>\n",
       "    </tr>\n",
       "  </thead>\n",
       "  <tbody>\n",
       "    <tr>\n",
       "      <th>0</th>\n",
       "      <td>Walking</td>\n",
       "      <td>Walking</td>\n",
       "      <td>2016-10-17 19:26:34.538</td>\n",
       "      <td>Back RIGHT pants pocket</td>\n",
       "      <td>walk4</td>\n",
       "      <td>True</td>\n",
       "    </tr>\n",
       "    <tr>\n",
       "      <th>1</th>\n",
       "      <td>Walking</td>\n",
       "      <td>Walking</td>\n",
       "      <td>2016-10-17 19:26:34.538</td>\n",
       "      <td>On left wrist</td>\n",
       "      <td>walk7</td>\n",
       "      <td>False</td>\n",
       "    </tr>\n",
       "    <tr>\n",
       "      <th>2</th>\n",
       "      <td>Walking</td>\n",
       "      <td>Walking</td>\n",
       "      <td>2016-10-17 19:26:34.563</td>\n",
       "      <td>Back RIGHT pants pocket</td>\n",
       "      <td>walk4</td>\n",
       "      <td>True</td>\n",
       "    </tr>\n",
       "  </tbody>\n",
       "</table>\n",
       "</div>"
      ],
      "text/plain": [
       "  layoutGroupId surveyId               timestamp                    value  \\\n",
       "0       Walking  Walking 2016-10-17 19:26:34.538  Back RIGHT pants pocket   \n",
       "1       Walking  Walking 2016-10-17 19:26:34.538            On left wrist   \n",
       "2       Walking  Walking 2016-10-17 19:26:34.563  Back RIGHT pants pocket   \n",
       "\n",
       "  viewId wasInteracted  \n",
       "0  walk4          True  \n",
       "1  walk7         False  \n",
       "2  walk4          True  "
      ]
     },
     "execution_count": 26,
     "metadata": {},
     "output_type": "execute_result"
    }
   ],
   "source": [
    "labelMetaWalkingFiles = glob.glob(dataSetPath + \"/JSON-User2-LabelMeta/s-Walking*.json\")\n",
    "labelMetaWalkingDf = pd.DataFrame()\n",
    "list_ = []\n",
    "for file_ in labelMetaWalkingFiles:\n",
    "    df = pd.read_json(file_, lines=True)\n",
    "    list_.append(df)\n",
    "labelMetaWalkingDf = pd.concat(list_)\n",
    "\n",
    "labelMetaWalkingDf.head(3)"
   ]
  }
 ],
 "metadata": {
  "kernelspec": {
   "display_name": "Python [conda root]",
   "language": "python",
   "name": "conda-root-py"
  },
  "language_info": {
   "codemirror_mode": {
    "name": "ipython",
    "version": 3
   },
   "file_extension": ".py",
   "mimetype": "text/x-python",
   "name": "python",
   "nbconvert_exporter": "python",
   "pygments_lexer": "ipython3",
   "version": "3.5.2"
  }
 },
 "nbformat": 4,
 "nbformat_minor": 1
}
