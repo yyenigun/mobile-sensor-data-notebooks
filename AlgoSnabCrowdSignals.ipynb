{
 "cells": [
  {
   "cell_type": "code",
   "execution_count": 1,
   "metadata": {
    "collapsed": false
   },
   "outputs": [],
   "source": [
    "%matplotlib inline\n",
    "import matplotlib.pyplot as plt\n",
    "import numpy as np\n",
    "from numpy import genfromtxt\n",
    "import pandas as pd\n",
    "import math as math"
   ]
  },
  {
   "cell_type": "code",
   "execution_count": null,
   "metadata": {
    "collapsed": true
   },
   "outputs": [],
   "source": []
  },
  {
   "cell_type": "code",
   "execution_count": null,
   "metadata": {
    "collapsed": true
   },
   "outputs": [],
   "source": []
  },
  {
   "cell_type": "code",
   "execution_count": null,
   "metadata": {
    "collapsed": true
   },
   "outputs": [],
   "source": []
  },
  {
   "cell_type": "code",
   "execution_count": null,
   "metadata": {
    "collapsed": true
   },
   "outputs": [],
   "source": []
  },
  {
   "cell_type": "code",
   "execution_count": null,
   "metadata": {
    "collapsed": true
   },
   "outputs": [],
   "source": []
  },
  {
   "cell_type": "code",
   "execution_count": null,
   "metadata": {
    "collapsed": true
   },
   "outputs": [],
   "source": []
  },
  {
   "cell_type": "markdown",
   "metadata": {},
   "source": [
    "Algo Snab Crowd Signals"
   ]
  },
  {
   "cell_type": "code",
   "execution_count": null,
   "metadata": {
    "collapsed": true
   },
   "outputs": [],
   "source": []
  },
  {
   "cell_type": "markdown",
   "metadata": {},
   "source": [
    "Merging Data\n",
    "========\n",
    "First, we will merge csv files."
   ]
  },
  {
   "cell_type": "code",
   "execution_count": null,
   "metadata": {
    "collapsed": true
   },
   "outputs": [],
   "source": []
  },
  {
   "cell_type": "code",
   "execution_count": 3,
   "metadata": {
    "collapsed": false
   },
   "outputs": [
    {
     "ename": "SyntaxError",
     "evalue": "invalid syntax (<ipython-input-3-4dae3aae2c51>, line 11)",
     "output_type": "error",
     "traceback": [
      "\u001b[0;36m  File \u001b[0;32m\"<ipython-input-3-4dae3aae2c51>\"\u001b[0;36m, line \u001b[0;32m11\u001b[0m\n\u001b[0;31m    xV = (accDf['x'] * accDf['x']) + (accDf['y'] * accDf['y']) + (accDf['z'] * accDf['z'])\u001b[0m\n\u001b[0m     ^\u001b[0m\n\u001b[0;31mSyntaxError\u001b[0m\u001b[0;31m:\u001b[0m invalid syntax\n"
     ]
    }
   ],
   "source": [
    "accDf = pd.read_csv('/Users/yalcin.yenigun/dev/workspaces/gsu/Sample Dataset/Driving-Transit/Driving Car/csv/0_Accelerometer-352622063881655_1464151308190.csv')\n",
    "accDf.concat(pd.read_csv('/Users/yalcin.yenigun/dev/workspaces/gsu/Sample Dataset/Driving-Transit/Driving Car/csv/0_Accelerometer-352622063881655_1464151429027.csv')\n",
    "accDf.concat(pd.read_csv('/Users/yalcin.yenigun/dev/workspaces/gsu/Sample Dataset/Driving-Transit/Driving Car/csv/0_Accelerometer-352622063881655_1464151549053.csv')\n",
    "accDf.concat(pd.read_csv('/Users/yalcin.yenigun/dev/workspaces/gsu/Sample Dataset/Driving-Transit/Driving Car/csv/0_Accelerometer-352622063881655_1464151670013.csv')\n",
    "accDf.concat(pd.read_csv('/Users/yalcin.yenigun/dev/workspaces/gsu/Sample Dataset/Driving-Transit/Driving Car/csv/0_Accelerometer-352622063881655_1464151791013.csv')\n",
    "accDf.concat(pd.read_csv('/Users/yalcin.yenigun/dev/workspaces/gsu/Sample Dataset/Driving-Transit/Driving Car/csv/0_Accelerometer-352622063881655_1464151911020.csv')\n",
    "accDf.concat(pd.read_csv('/Users/yalcin.yenigun/dev/workspaces/gsu/Sample Dataset/Driving-Transit/Driving Car/csv/1_Accelerometer-352622063881655_1464151308190.csv')\n",
    "accDf.concat(pd.read_csv('/Users/yalcin.yenigun/dev/workspaces/gsu/Sample Dataset/Driving-Transit/Driving Car/csv/1_Accelerometer-352622063881655_1464151308190.csv')\n",
    "accDf.concat(pd.read_csv('/Users/yalcin.yenigun/dev/workspaces/gsu/Sample Dataset/Driving-Transit/Driving Car/csv/1_Accelerometer-352622063881655_1464151308190.csv')\n",
    "accDf.concat(pd.read_csv('/Users/yalcin.yenigun/dev/workspaces/gsu/Sample Dataset/Driving-Transit/Driving Car/csv/1_Accelerometer-352622063881655_1464151308190.csv')\n",
    "accDf.concat(pd.read_csv('/Users/yalcin.yenigun/dev/workspaces/gsu/Sample Dataset/Driving-Transit/Driving Car/csv/1_Accelerometer-352622063881655_1464151308190.csv')\n",
    "\n",
    "\n",
    "\n",
    "\n",
    "\n",
    "\n",
    "\n",
    "\n",
    "xV = (accDf['x'] * accDf['x']) + (accDf['y'] * accDf['y']) + (accDf['z'] * accDf['z'])\n",
    "accDf['acc'] = xV\n",
    "accDf['acc'] = accDf['acc'].apply(math.sqrt)\n",
    "\n",
    "plt.plot(accDf['timestamps'], accDf['acc'])\n",
    "plt.show()\n",
    "\n",
    "gyroDf = pd.read_csv('/Users/yalcin.yenigun/dev/workspaces/gsu/Sample Dataset/Driving-Transit/Driving Car/csv/0_Gyroscope-352622063881655_1464151308276.csv')\n",
    "gyroV = (gyroDf['x'] * gyroDf['x']) + (gyroDf['y'] * gyroDf['y']) + (gyroDf['z'] * gyroDf['z'])\n",
    "gyroDf['acc'] = gyroV\n",
    "gyroDf['acc'] = gyroDf['acc'].apply(math.sqrt)\n",
    "\n",
    "plt.plot(gyroDf['timestamps'], gyroDf['acc'])\n",
    "plt.show()\n",
    "\n",
    "mgDf = pd.read_csv('/Users/yalcin.yenigun/dev/workspaces/gsu/Sample Dataset/Driving-Transit/Driving Car/csv/0_Magnetometer-352622063881655_1464151309038.csv')\n",
    "mgV = (mgDf['x'] * mgDf['x']) + (mgDf['y'] * mgDf['y']) + (mgDf['z'] * mgDf['z'])\n",
    "mgDf['acc'] = mgV\n",
    "mgDf['acc'] = mgDf['acc'].apply(math.sqrt)\n",
    "\n",
    "plt.plot(mgDf['timestamps'], mgDf['acc'])\n",
    "plt.show()\n",
    "\n",
    "pDf = pd.read_csv('/Users/yalcin.yenigun/dev/workspaces/gsu/Sample Dataset/Driving-Transit/Driving Car/csv/0_Pressure-352622063881655_1464151309174.csv')\n",
    "\n",
    "plt.plot(pDf['timestamps'],pDf['pressure'])\n",
    "plt.show()"
   ]
  },
  {
   "cell_type": "code",
   "execution_count": null,
   "metadata": {
    "collapsed": true
   },
   "outputs": [],
   "source": []
  },
  {
   "cell_type": "code",
   "execution_count": null,
   "metadata": {
    "collapsed": true
   },
   "outputs": [],
   "source": []
  },
  {
   "cell_type": "code",
   "execution_count": 4,
   "metadata": {
    "collapsed": false
   },
   "outputs": [
    {
     "data": {
      "text/html": [
       "<div>\n",
       "<table border=\"1\" class=\"dataframe\">\n",
       "  <thead>\n",
       "    <tr style=\"text-align: right;\">\n",
       "      <th></th>\n",
       "      <th>user_id</th>\n",
       "      <th>sw_name</th>\n",
       "      <th>sw_version</th>\n",
       "      <th>device_id</th>\n",
       "      <th>device_type</th>\n",
       "      <th>timezone</th>\n",
       "      <th>type</th>\n",
       "      <th>start</th>\n",
       "      <th>end</th>\n",
       "      <th>sensor_name</th>\n",
       "      <th>x</th>\n",
       "      <th>y</th>\n",
       "      <th>z</th>\n",
       "      <th>timestamps</th>\n",
       "      <th>acc</th>\n",
       "    </tr>\n",
       "  </thead>\n",
       "  <tbody>\n",
       "    <tr>\n",
       "      <th>0</th>\n",
       "      <td>0</td>\n",
       "      <td>crowdsignals.algosnap.com</td>\n",
       "      <td>1.0(1)</td>\n",
       "      <td>352622063881655</td>\n",
       "      <td>smartphone</td>\n",
       "      <td>-8</td>\n",
       "      <td>accelerometer</td>\n",
       "      <td>1464151307000000000</td>\n",
       "      <td>1464151308000000000</td>\n",
       "      <td>MPU6500 Acceleration Sensor</td>\n",
       "      <td>-0.705691</td>\n",
       "      <td>5.699995</td>\n",
       "      <td>7.353192</td>\n",
       "      <td>1464151307983320729</td>\n",
       "      <td>9.330454</td>\n",
       "    </tr>\n",
       "    <tr>\n",
       "      <th>1</th>\n",
       "      <td>0</td>\n",
       "      <td>crowdsignals.algosnap.com</td>\n",
       "      <td>1.0(1)</td>\n",
       "      <td>352622063881655</td>\n",
       "      <td>smartphone</td>\n",
       "      <td>-8</td>\n",
       "      <td>accelerometer</td>\n",
       "      <td>1464151307000000000</td>\n",
       "      <td>1464151308000000000</td>\n",
       "      <td>MPU6500 Acceleration Sensor</td>\n",
       "      <td>-0.745794</td>\n",
       "      <td>5.732317</td>\n",
       "      <td>7.289746</td>\n",
       "      <td>1464151307985175416</td>\n",
       "      <td>9.303551</td>\n",
       "    </tr>\n",
       "    <tr>\n",
       "      <th>2</th>\n",
       "      <td>0</td>\n",
       "      <td>crowdsignals.algosnap.com</td>\n",
       "      <td>1.0(1)</td>\n",
       "      <td>352622063881655</td>\n",
       "      <td>smartphone</td>\n",
       "      <td>-8</td>\n",
       "      <td>accelerometer</td>\n",
       "      <td>1464151307000000000</td>\n",
       "      <td>1464151308000000000</td>\n",
       "      <td>MPU6500 Acceleration Sensor</td>\n",
       "      <td>-0.778714</td>\n",
       "      <td>5.747281</td>\n",
       "      <td>7.283162</td>\n",
       "      <td>1464151307991062500</td>\n",
       "      <td>9.310321</td>\n",
       "    </tr>\n",
       "    <tr>\n",
       "      <th>3</th>\n",
       "      <td>0</td>\n",
       "      <td>crowdsignals.algosnap.com</td>\n",
       "      <td>1.0(1)</td>\n",
       "      <td>352622063881655</td>\n",
       "      <td>smartphone</td>\n",
       "      <td>-8</td>\n",
       "      <td>accelerometer</td>\n",
       "      <td>1464151307000000000</td>\n",
       "      <td>1464151308000000000</td>\n",
       "      <td>MPU6500 Acceleration Sensor</td>\n",
       "      <td>-0.820014</td>\n",
       "      <td>5.723339</td>\n",
       "      <td>7.271191</td>\n",
       "      <td>1464151307995100260</td>\n",
       "      <td>9.289739</td>\n",
       "    </tr>\n",
       "    <tr>\n",
       "      <th>4</th>\n",
       "      <td>0</td>\n",
       "      <td>crowdsignals.algosnap.com</td>\n",
       "      <td>1.0(1)</td>\n",
       "      <td>352622063881655</td>\n",
       "      <td>smartphone</td>\n",
       "      <td>-8</td>\n",
       "      <td>accelerometer</td>\n",
       "      <td>1464151308000000000</td>\n",
       "      <td>1464151309000000000</td>\n",
       "      <td>MPU6500 Acceleration Sensor</td>\n",
       "      <td>-0.791284</td>\n",
       "      <td>5.643134</td>\n",
       "      <td>7.463325</td>\n",
       "      <td>1464151308004968906</td>\n",
       "      <td>9.390011</td>\n",
       "    </tr>\n",
       "    <tr>\n",
       "      <th>5</th>\n",
       "      <td>0</td>\n",
       "      <td>crowdsignals.algosnap.com</td>\n",
       "      <td>1.0(1)</td>\n",
       "      <td>352622063881655</td>\n",
       "      <td>smartphone</td>\n",
       "      <td>-8</td>\n",
       "      <td>accelerometer</td>\n",
       "      <td>1464151308000000000</td>\n",
       "      <td>1464151309000000000</td>\n",
       "      <td>MPU6500 Acceleration Sensor</td>\n",
       "      <td>-0.815824</td>\n",
       "      <td>5.643732</td>\n",
       "      <td>7.541137</td>\n",
       "      <td>1464151308010549532</td>\n",
       "      <td>9.454418</td>\n",
       "    </tr>\n",
       "    <tr>\n",
       "      <th>6</th>\n",
       "      <td>0</td>\n",
       "      <td>crowdsignals.algosnap.com</td>\n",
       "      <td>1.0(1)</td>\n",
       "      <td>352622063881655</td>\n",
       "      <td>smartphone</td>\n",
       "      <td>-8</td>\n",
       "      <td>accelerometer</td>\n",
       "      <td>1464151308000000000</td>\n",
       "      <td>1464151309000000000</td>\n",
       "      <td>MPU6500 Acceleration Sensor</td>\n",
       "      <td>-0.833781</td>\n",
       "      <td>5.668272</td>\n",
       "      <td>7.583634</td>\n",
       "      <td>1464151308014715261</td>\n",
       "      <td>9.504526</td>\n",
       "    </tr>\n",
       "    <tr>\n",
       "      <th>7</th>\n",
       "      <td>0</td>\n",
       "      <td>crowdsignals.algosnap.com</td>\n",
       "      <td>1.0(1)</td>\n",
       "      <td>352622063881655</td>\n",
       "      <td>smartphone</td>\n",
       "      <td>-8</td>\n",
       "      <td>accelerometer</td>\n",
       "      <td>1464151308000000000</td>\n",
       "      <td>1464151309000000000</td>\n",
       "      <td>MPU6500 Acceleration Sensor</td>\n",
       "      <td>-0.910994</td>\n",
       "      <td>5.744288</td>\n",
       "      <td>7.678205</td>\n",
       "      <td>1464151308021345938</td>\n",
       "      <td>9.632320</td>\n",
       "    </tr>\n",
       "    <tr>\n",
       "      <th>8</th>\n",
       "      <td>0</td>\n",
       "      <td>crowdsignals.algosnap.com</td>\n",
       "      <td>1.0(1)</td>\n",
       "      <td>352622063881655</td>\n",
       "      <td>smartphone</td>\n",
       "      <td>-8</td>\n",
       "      <td>accelerometer</td>\n",
       "      <td>1464151308000000000</td>\n",
       "      <td>1464151309000000000</td>\n",
       "      <td>MPU6500 Acceleration Sensor</td>\n",
       "      <td>-0.934337</td>\n",
       "      <td>5.786187</td>\n",
       "      <td>7.731476</td>\n",
       "      <td>1464151308025552240</td>\n",
       "      <td>9.701993</td>\n",
       "    </tr>\n",
       "    <tr>\n",
       "      <th>9</th>\n",
       "      <td>0</td>\n",
       "      <td>crowdsignals.algosnap.com</td>\n",
       "      <td>1.0(1)</td>\n",
       "      <td>352622063881655</td>\n",
       "      <td>smartphone</td>\n",
       "      <td>-8</td>\n",
       "      <td>accelerometer</td>\n",
       "      <td>1464151308000000000</td>\n",
       "      <td>1464151309000000000</td>\n",
       "      <td>MPU6500 Acceleration Sensor</td>\n",
       "      <td>-0.893037</td>\n",
       "      <td>5.763442</td>\n",
       "      <td>7.766192</td>\n",
       "      <td>1464151308031067188</td>\n",
       "      <td>9.712287</td>\n",
       "    </tr>\n",
       "    <tr>\n",
       "      <th>10</th>\n",
       "      <td>0</td>\n",
       "      <td>crowdsignals.algosnap.com</td>\n",
       "      <td>1.0(1)</td>\n",
       "      <td>352622063881655</td>\n",
       "      <td>smartphone</td>\n",
       "      <td>-8</td>\n",
       "      <td>accelerometer</td>\n",
       "      <td>1464151308000000000</td>\n",
       "      <td>1464151309000000000</td>\n",
       "      <td>MPU6500 Acceleration Sensor</td>\n",
       "      <td>-0.839766</td>\n",
       "      <td>5.721543</td>\n",
       "      <td>7.752425</td>\n",
       "      <td>1464151308035358333</td>\n",
       "      <td>9.671678</td>\n",
       "    </tr>\n",
       "    <tr>\n",
       "      <th>11</th>\n",
       "      <td>0</td>\n",
       "      <td>crowdsignals.algosnap.com</td>\n",
       "      <td>1.0(1)</td>\n",
       "      <td>352622063881655</td>\n",
       "      <td>smartphone</td>\n",
       "      <td>-8</td>\n",
       "      <td>accelerometer</td>\n",
       "      <td>1464151308000000000</td>\n",
       "      <td>1464151309000000000</td>\n",
       "      <td>MPU6500 Acceleration Sensor</td>\n",
       "      <td>-0.812233</td>\n",
       "      <td>5.701791</td>\n",
       "      <td>7.718906</td>\n",
       "      <td>1464151308040805834</td>\n",
       "      <td>9.630766</td>\n",
       "    </tr>\n",
       "    <tr>\n",
       "      <th>12</th>\n",
       "      <td>0</td>\n",
       "      <td>crowdsignals.algosnap.com</td>\n",
       "      <td>1.0(1)</td>\n",
       "      <td>352622063881655</td>\n",
       "      <td>smartphone</td>\n",
       "      <td>-8</td>\n",
       "      <td>accelerometer</td>\n",
       "      <td>1464151308000000000</td>\n",
       "      <td>1464151309000000000</td>\n",
       "      <td>MPU6500 Acceleration Sensor</td>\n",
       "      <td>-0.773926</td>\n",
       "      <td>5.638345</td>\n",
       "      <td>7.660248</td>\n",
       "      <td>1464151308045110573</td>\n",
       "      <td>9.543024</td>\n",
       "    </tr>\n",
       "    <tr>\n",
       "      <th>13</th>\n",
       "      <td>0</td>\n",
       "      <td>crowdsignals.algosnap.com</td>\n",
       "      <td>1.0(1)</td>\n",
       "      <td>352622063881655</td>\n",
       "      <td>smartphone</td>\n",
       "      <td>-8</td>\n",
       "      <td>accelerometer</td>\n",
       "      <td>1464151308000000000</td>\n",
       "      <td>1464151309000000000</td>\n",
       "      <td>MPU6500 Acceleration Sensor</td>\n",
       "      <td>-0.720056</td>\n",
       "      <td>5.621585</td>\n",
       "      <td>7.601591</td>\n",
       "      <td>1464151308050631615</td>\n",
       "      <td>9.481819</td>\n",
       "    </tr>\n",
       "    <tr>\n",
       "      <th>14</th>\n",
       "      <td>0</td>\n",
       "      <td>crowdsignals.algosnap.com</td>\n",
       "      <td>1.0(1)</td>\n",
       "      <td>352622063881655</td>\n",
       "      <td>smartphone</td>\n",
       "      <td>-8</td>\n",
       "      <td>accelerometer</td>\n",
       "      <td>1464151308000000000</td>\n",
       "      <td>1464151309000000000</td>\n",
       "      <td>MPU6500 Acceleration Sensor</td>\n",
       "      <td>-0.666187</td>\n",
       "      <td>5.583877</td>\n",
       "      <td>7.514801</td>\n",
       "      <td>1464151308054880990</td>\n",
       "      <td>9.385932</td>\n",
       "    </tr>\n",
       "    <tr>\n",
       "      <th>15</th>\n",
       "      <td>0</td>\n",
       "      <td>crowdsignals.algosnap.com</td>\n",
       "      <td>1.0(1)</td>\n",
       "      <td>352622063881655</td>\n",
       "      <td>smartphone</td>\n",
       "      <td>-8</td>\n",
       "      <td>accelerometer</td>\n",
       "      <td>1464151308000000000</td>\n",
       "      <td>1464151309000000000</td>\n",
       "      <td>MPU6500 Acceleration Sensor</td>\n",
       "      <td>-0.614113</td>\n",
       "      <td>5.617396</td>\n",
       "      <td>7.429208</td>\n",
       "      <td>1464151308060468438</td>\n",
       "      <td>9.334099</td>\n",
       "    </tr>\n",
       "    <tr>\n",
       "      <th>16</th>\n",
       "      <td>0</td>\n",
       "      <td>crowdsignals.algosnap.com</td>\n",
       "      <td>1.0(1)</td>\n",
       "      <td>352622063881655</td>\n",
       "      <td>smartphone</td>\n",
       "      <td>-8</td>\n",
       "      <td>accelerometer</td>\n",
       "      <td>1464151308000000000</td>\n",
       "      <td>1464151309000000000</td>\n",
       "      <td>MPU6500 Acceleration Sensor</td>\n",
       "      <td>-0.614113</td>\n",
       "      <td>5.617396</td>\n",
       "      <td>7.429208</td>\n",
       "      <td>1464151308064638230</td>\n",
       "      <td>9.334099</td>\n",
       "    </tr>\n",
       "    <tr>\n",
       "      <th>17</th>\n",
       "      <td>0</td>\n",
       "      <td>crowdsignals.algosnap.com</td>\n",
       "      <td>1.0(1)</td>\n",
       "      <td>352622063881655</td>\n",
       "      <td>smartphone</td>\n",
       "      <td>-8</td>\n",
       "      <td>accelerometer</td>\n",
       "      <td>1464151308000000000</td>\n",
       "      <td>1464151309000000000</td>\n",
       "      <td>MPU6500 Acceleration Sensor</td>\n",
       "      <td>-0.665588</td>\n",
       "      <td>5.673061</td>\n",
       "      <td>7.490859</td>\n",
       "      <td>1464151308070134272</td>\n",
       "      <td>9.420169</td>\n",
       "    </tr>\n",
       "    <tr>\n",
       "      <th>18</th>\n",
       "      <td>0</td>\n",
       "      <td>crowdsignals.algosnap.com</td>\n",
       "      <td>1.0(1)</td>\n",
       "      <td>352622063881655</td>\n",
       "      <td>smartphone</td>\n",
       "      <td>-8</td>\n",
       "      <td>accelerometer</td>\n",
       "      <td>1464151308000000000</td>\n",
       "      <td>1464151309000000000</td>\n",
       "      <td>MPU6500 Acceleration Sensor</td>\n",
       "      <td>-0.665588</td>\n",
       "      <td>5.673061</td>\n",
       "      <td>7.490859</td>\n",
       "      <td>1464151308074368750</td>\n",
       "      <td>9.420169</td>\n",
       "    </tr>\n",
       "    <tr>\n",
       "      <th>19</th>\n",
       "      <td>0</td>\n",
       "      <td>crowdsignals.algosnap.com</td>\n",
       "      <td>1.0(1)</td>\n",
       "      <td>352622063881655</td>\n",
       "      <td>smartphone</td>\n",
       "      <td>-8</td>\n",
       "      <td>accelerometer</td>\n",
       "      <td>1464151308000000000</td>\n",
       "      <td>1464151309000000000</td>\n",
       "      <td>MPU6500 Acceleration Sensor</td>\n",
       "      <td>-0.733224</td>\n",
       "      <td>5.633556</td>\n",
       "      <td>7.526771</td>\n",
       "      <td>1464151308079980104</td>\n",
       "      <td>9.430104</td>\n",
       "    </tr>\n",
       "    <tr>\n",
       "      <th>20</th>\n",
       "      <td>0</td>\n",
       "      <td>crowdsignals.algosnap.com</td>\n",
       "      <td>1.0(1)</td>\n",
       "      <td>352622063881655</td>\n",
       "      <td>smartphone</td>\n",
       "      <td>-8</td>\n",
       "      <td>accelerometer</td>\n",
       "      <td>1464151308000000000</td>\n",
       "      <td>1464151309000000000</td>\n",
       "      <td>MPU6500 Acceleration Sensor</td>\n",
       "      <td>-0.733224</td>\n",
       "      <td>5.633556</td>\n",
       "      <td>7.526771</td>\n",
       "      <td>1464151308084187344</td>\n",
       "      <td>9.430104</td>\n",
       "    </tr>\n",
       "    <tr>\n",
       "      <th>21</th>\n",
       "      <td>0</td>\n",
       "      <td>crowdsignals.algosnap.com</td>\n",
       "      <td>1.0(1)</td>\n",
       "      <td>352622063881655</td>\n",
       "      <td>smartphone</td>\n",
       "      <td>-8</td>\n",
       "      <td>accelerometer</td>\n",
       "      <td>1464151308000000000</td>\n",
       "      <td>1464151309000000000</td>\n",
       "      <td>MPU6500 Acceleration Sensor</td>\n",
       "      <td>-0.666187</td>\n",
       "      <td>5.634155</td>\n",
       "      <td>7.478289</td>\n",
       "      <td>1464151308089731615</td>\n",
       "      <td>9.386816</td>\n",
       "    </tr>\n",
       "    <tr>\n",
       "      <th>22</th>\n",
       "      <td>0</td>\n",
       "      <td>crowdsignals.algosnap.com</td>\n",
       "      <td>1.0(1)</td>\n",
       "      <td>352622063881655</td>\n",
       "      <td>smartphone</td>\n",
       "      <td>-8</td>\n",
       "      <td>accelerometer</td>\n",
       "      <td>1464151308000000000</td>\n",
       "      <td>1464151309000000000</td>\n",
       "      <td>MPU6500 Acceleration Sensor</td>\n",
       "      <td>-0.666187</td>\n",
       "      <td>5.634155</td>\n",
       "      <td>7.478289</td>\n",
       "      <td>1464151308093919531</td>\n",
       "      <td>9.386816</td>\n",
       "    </tr>\n",
       "    <tr>\n",
       "      <th>23</th>\n",
       "      <td>0</td>\n",
       "      <td>crowdsignals.algosnap.com</td>\n",
       "      <td>1.0(1)</td>\n",
       "      <td>352622063881655</td>\n",
       "      <td>smartphone</td>\n",
       "      <td>-8</td>\n",
       "      <td>accelerometer</td>\n",
       "      <td>1464151308000000000</td>\n",
       "      <td>1464151309000000000</td>\n",
       "      <td>MPU6500 Acceleration Sensor</td>\n",
       "      <td>-0.632069</td>\n",
       "      <td>5.693412</td>\n",
       "      <td>7.469909</td>\n",
       "      <td>1464151308099404583</td>\n",
       "      <td>9.413501</td>\n",
       "    </tr>\n",
       "    <tr>\n",
       "      <th>24</th>\n",
       "      <td>0</td>\n",
       "      <td>crowdsignals.algosnap.com</td>\n",
       "      <td>1.0(1)</td>\n",
       "      <td>352622063881655</td>\n",
       "      <td>smartphone</td>\n",
       "      <td>-8</td>\n",
       "      <td>accelerometer</td>\n",
       "      <td>1464151308000000000</td>\n",
       "      <td>1464151309000000000</td>\n",
       "      <td>MPU6500 Acceleration Sensor</td>\n",
       "      <td>-0.632069</td>\n",
       "      <td>5.693412</td>\n",
       "      <td>7.469909</td>\n",
       "      <td>1464151308104638697</td>\n",
       "      <td>9.413501</td>\n",
       "    </tr>\n",
       "    <tr>\n",
       "      <th>25</th>\n",
       "      <td>0</td>\n",
       "      <td>crowdsignals.algosnap.com</td>\n",
       "      <td>1.0(1)</td>\n",
       "      <td>352622063881655</td>\n",
       "      <td>smartphone</td>\n",
       "      <td>-8</td>\n",
       "      <td>accelerometer</td>\n",
       "      <td>1464151308000000000</td>\n",
       "      <td>1464151309000000000</td>\n",
       "      <td>MPU6500 Acceleration Sensor</td>\n",
       "      <td>-0.623690</td>\n",
       "      <td>5.797559</td>\n",
       "      <td>7.533954</td>\n",
       "      <td>1464151308110467292</td>\n",
       "      <td>9.526864</td>\n",
       "    </tr>\n",
       "    <tr>\n",
       "      <th>26</th>\n",
       "      <td>0</td>\n",
       "      <td>crowdsignals.algosnap.com</td>\n",
       "      <td>1.0(1)</td>\n",
       "      <td>352622063881655</td>\n",
       "      <td>smartphone</td>\n",
       "      <td>-8</td>\n",
       "      <td>accelerometer</td>\n",
       "      <td>1464151308000000000</td>\n",
       "      <td>1464151309000000000</td>\n",
       "      <td>MPU6500 Acceleration Sensor</td>\n",
       "      <td>-0.623690</td>\n",
       "      <td>5.797559</td>\n",
       "      <td>7.533954</td>\n",
       "      <td>1464151308114415781</td>\n",
       "      <td>9.526864</td>\n",
       "    </tr>\n",
       "    <tr>\n",
       "      <th>27</th>\n",
       "      <td>0</td>\n",
       "      <td>crowdsignals.algosnap.com</td>\n",
       "      <td>1.0(1)</td>\n",
       "      <td>352622063881655</td>\n",
       "      <td>smartphone</td>\n",
       "      <td>-8</td>\n",
       "      <td>accelerometer</td>\n",
       "      <td>1464151308000000000</td>\n",
       "      <td>1464151309000000000</td>\n",
       "      <td>MPU6500 Acceleration Sensor</td>\n",
       "      <td>-0.606930</td>\n",
       "      <td>5.778406</td>\n",
       "      <td>7.560290</td>\n",
       "      <td>1464151308119990313</td>\n",
       "      <td>9.535005</td>\n",
       "    </tr>\n",
       "    <tr>\n",
       "      <th>28</th>\n",
       "      <td>0</td>\n",
       "      <td>crowdsignals.algosnap.com</td>\n",
       "      <td>1.0(1)</td>\n",
       "      <td>352622063881655</td>\n",
       "      <td>smartphone</td>\n",
       "      <td>-8</td>\n",
       "      <td>accelerometer</td>\n",
       "      <td>1464151308000000000</td>\n",
       "      <td>1464151309000000000</td>\n",
       "      <td>MPU6500 Acceleration Sensor</td>\n",
       "      <td>-0.645836</td>\n",
       "      <td>5.762245</td>\n",
       "      <td>7.608174</td>\n",
       "      <td>1464151308124233229</td>\n",
       "      <td>9.565819</td>\n",
       "    </tr>\n",
       "    <tr>\n",
       "      <th>29</th>\n",
       "      <td>0</td>\n",
       "      <td>crowdsignals.algosnap.com</td>\n",
       "      <td>1.0(1)</td>\n",
       "      <td>352622063881655</td>\n",
       "      <td>smartphone</td>\n",
       "      <td>-8</td>\n",
       "      <td>accelerometer</td>\n",
       "      <td>1464151308000000000</td>\n",
       "      <td>1464151309000000000</td>\n",
       "      <td>MPU6500 Acceleration Sensor</td>\n",
       "      <td>-0.622492</td>\n",
       "      <td>5.753865</td>\n",
       "      <td>7.583634</td>\n",
       "      <td>1464151308129780312</td>\n",
       "      <td>9.539705</td>\n",
       "    </tr>\n",
       "    <tr>\n",
       "      <th>...</th>\n",
       "      <td>...</td>\n",
       "      <td>...</td>\n",
       "      <td>...</td>\n",
       "      <td>...</td>\n",
       "      <td>...</td>\n",
       "      <td>...</td>\n",
       "      <td>...</td>\n",
       "      <td>...</td>\n",
       "      <td>...</td>\n",
       "      <td>...</td>\n",
       "      <td>...</td>\n",
       "      <td>...</td>\n",
       "      <td>...</td>\n",
       "      <td>...</td>\n",
       "      <td>...</td>\n",
       "    </tr>\n",
       "    <tr>\n",
       "      <th>24157</th>\n",
       "      <td>0</td>\n",
       "      <td>crowdsignals.algosnap.com</td>\n",
       "      <td>1.0(1)</td>\n",
       "      <td>352622063881655</td>\n",
       "      <td>smartphone</td>\n",
       "      <td>-8</td>\n",
       "      <td>accelerometer</td>\n",
       "      <td>1464151427000000000</td>\n",
       "      <td>1464151428000000000</td>\n",
       "      <td>MPU6500 Acceleration Sensor</td>\n",
       "      <td>6.884527</td>\n",
       "      <td>0.279523</td>\n",
       "      <td>-7.310695</td>\n",
       "      <td>1464151427855147083</td>\n",
       "      <td>10.045950</td>\n",
       "    </tr>\n",
       "    <tr>\n",
       "      <th>24158</th>\n",
       "      <td>0</td>\n",
       "      <td>crowdsignals.algosnap.com</td>\n",
       "      <td>1.0(1)</td>\n",
       "      <td>352622063881655</td>\n",
       "      <td>smartphone</td>\n",
       "      <td>-8</td>\n",
       "      <td>accelerometer</td>\n",
       "      <td>1464151427000000000</td>\n",
       "      <td>1464151428000000000</td>\n",
       "      <td>MPU6500 Acceleration Sensor</td>\n",
       "      <td>7.047333</td>\n",
       "      <td>0.396240</td>\n",
       "      <td>-7.277775</td>\n",
       "      <td>1464151427860266719</td>\n",
       "      <td>10.138438</td>\n",
       "    </tr>\n",
       "    <tr>\n",
       "      <th>24159</th>\n",
       "      <td>0</td>\n",
       "      <td>crowdsignals.algosnap.com</td>\n",
       "      <td>1.0(1)</td>\n",
       "      <td>352622063881655</td>\n",
       "      <td>smartphone</td>\n",
       "      <td>-8</td>\n",
       "      <td>accelerometer</td>\n",
       "      <td>1464151427000000000</td>\n",
       "      <td>1464151428000000000</td>\n",
       "      <td>MPU6500 Acceleration Sensor</td>\n",
       "      <td>7.047333</td>\n",
       "      <td>0.396240</td>\n",
       "      <td>-7.277775</td>\n",
       "      <td>1464151427864772500</td>\n",
       "      <td>10.138438</td>\n",
       "    </tr>\n",
       "    <tr>\n",
       "      <th>24160</th>\n",
       "      <td>0</td>\n",
       "      <td>crowdsignals.algosnap.com</td>\n",
       "      <td>1.0(1)</td>\n",
       "      <td>352622063881655</td>\n",
       "      <td>smartphone</td>\n",
       "      <td>-8</td>\n",
       "      <td>accelerometer</td>\n",
       "      <td>1464151427000000000</td>\n",
       "      <td>1464151428000000000</td>\n",
       "      <td>MPU6500 Acceleration Sensor</td>\n",
       "      <td>6.817489</td>\n",
       "      <td>0.511162</td>\n",
       "      <td>-7.496245</td>\n",
       "      <td>1464151427869986979</td>\n",
       "      <td>10.145597</td>\n",
       "    </tr>\n",
       "    <tr>\n",
       "      <th>24161</th>\n",
       "      <td>0</td>\n",
       "      <td>crowdsignals.algosnap.com</td>\n",
       "      <td>1.0(1)</td>\n",
       "      <td>352622063881655</td>\n",
       "      <td>smartphone</td>\n",
       "      <td>-8</td>\n",
       "      <td>accelerometer</td>\n",
       "      <td>1464151427000000000</td>\n",
       "      <td>1464151428000000000</td>\n",
       "      <td>MPU6500 Acceleration Sensor</td>\n",
       "      <td>6.817489</td>\n",
       "      <td>0.511162</td>\n",
       "      <td>-7.496245</td>\n",
       "      <td>1464151427873979167</td>\n",
       "      <td>10.145597</td>\n",
       "    </tr>\n",
       "    <tr>\n",
       "      <th>24162</th>\n",
       "      <td>0</td>\n",
       "      <td>crowdsignals.algosnap.com</td>\n",
       "      <td>1.0(1)</td>\n",
       "      <td>352622063881655</td>\n",
       "      <td>smartphone</td>\n",
       "      <td>-8</td>\n",
       "      <td>accelerometer</td>\n",
       "      <td>1464151427000000000</td>\n",
       "      <td>1464151428000000000</td>\n",
       "      <td>MPU6500 Acceleration Sensor</td>\n",
       "      <td>7.079056</td>\n",
       "      <td>0.384868</td>\n",
       "      <td>-7.590218</td>\n",
       "      <td>1464151427880536251</td>\n",
       "      <td>10.386172</td>\n",
       "    </tr>\n",
       "    <tr>\n",
       "      <th>24163</th>\n",
       "      <td>0</td>\n",
       "      <td>crowdsignals.algosnap.com</td>\n",
       "      <td>1.0(1)</td>\n",
       "      <td>352622063881655</td>\n",
       "      <td>smartphone</td>\n",
       "      <td>-8</td>\n",
       "      <td>accelerometer</td>\n",
       "      <td>1464151427000000000</td>\n",
       "      <td>1464151428000000000</td>\n",
       "      <td>MPU6500 Acceleration Sensor</td>\n",
       "      <td>7.079056</td>\n",
       "      <td>0.384868</td>\n",
       "      <td>-7.590218</td>\n",
       "      <td>1464151427884591614</td>\n",
       "      <td>10.386172</td>\n",
       "    </tr>\n",
       "    <tr>\n",
       "      <th>24164</th>\n",
       "      <td>0</td>\n",
       "      <td>crowdsignals.algosnap.com</td>\n",
       "      <td>1.0(1)</td>\n",
       "      <td>352622063881655</td>\n",
       "      <td>smartphone</td>\n",
       "      <td>-8</td>\n",
       "      <td>accelerometer</td>\n",
       "      <td>1464151427000000000</td>\n",
       "      <td>1464151428000000000</td>\n",
       "      <td>MPU6500 Acceleration Sensor</td>\n",
       "      <td>6.900688</td>\n",
       "      <td>0.451307</td>\n",
       "      <td>-7.486669</td>\n",
       "      <td>1464151427890098490</td>\n",
       "      <td>10.191829</td>\n",
       "    </tr>\n",
       "    <tr>\n",
       "      <th>24165</th>\n",
       "      <td>0</td>\n",
       "      <td>crowdsignals.algosnap.com</td>\n",
       "      <td>1.0(1)</td>\n",
       "      <td>352622063881655</td>\n",
       "      <td>smartphone</td>\n",
       "      <td>-8</td>\n",
       "      <td>accelerometer</td>\n",
       "      <td>1464151427000000000</td>\n",
       "      <td>1464151428000000000</td>\n",
       "      <td>MPU6500 Acceleration Sensor</td>\n",
       "      <td>6.900688</td>\n",
       "      <td>0.451307</td>\n",
       "      <td>-7.486669</td>\n",
       "      <td>1464151427894117344</td>\n",
       "      <td>10.191829</td>\n",
       "    </tr>\n",
       "    <tr>\n",
       "      <th>24166</th>\n",
       "      <td>0</td>\n",
       "      <td>crowdsignals.algosnap.com</td>\n",
       "      <td>1.0(1)</td>\n",
       "      <td>352622063881655</td>\n",
       "      <td>smartphone</td>\n",
       "      <td>-8</td>\n",
       "      <td>accelerometer</td>\n",
       "      <td>1464151427000000000</td>\n",
       "      <td>1464151428000000000</td>\n",
       "      <td>MPU6500 Acceleration Sensor</td>\n",
       "      <td>6.922235</td>\n",
       "      <td>0.441730</td>\n",
       "      <td>-7.471705</td>\n",
       "      <td>1464151427900167708</td>\n",
       "      <td>10.195040</td>\n",
       "    </tr>\n",
       "    <tr>\n",
       "      <th>24167</th>\n",
       "      <td>0</td>\n",
       "      <td>crowdsignals.algosnap.com</td>\n",
       "      <td>1.0(1)</td>\n",
       "      <td>352622063881655</td>\n",
       "      <td>smartphone</td>\n",
       "      <td>-8</td>\n",
       "      <td>accelerometer</td>\n",
       "      <td>1464151427000000000</td>\n",
       "      <td>1464151428000000000</td>\n",
       "      <td>MPU6500 Acceleration Sensor</td>\n",
       "      <td>7.065289</td>\n",
       "      <td>0.360327</td>\n",
       "      <td>-7.478888</td>\n",
       "      <td>1464151427903524428</td>\n",
       "      <td>10.294751</td>\n",
       "    </tr>\n",
       "    <tr>\n",
       "      <th>24168</th>\n",
       "      <td>0</td>\n",
       "      <td>crowdsignals.algosnap.com</td>\n",
       "      <td>1.0(1)</td>\n",
       "      <td>352622063881655</td>\n",
       "      <td>smartphone</td>\n",
       "      <td>-8</td>\n",
       "      <td>accelerometer</td>\n",
       "      <td>1464151427000000000</td>\n",
       "      <td>1464151428000000000</td>\n",
       "      <td>MPU6500 Acceleration Sensor</td>\n",
       "      <td>7.189788</td>\n",
       "      <td>0.408211</td>\n",
       "      <td>-7.423223</td>\n",
       "      <td>1464151427910080885</td>\n",
       "      <td>10.342336</td>\n",
       "    </tr>\n",
       "    <tr>\n",
       "      <th>24169</th>\n",
       "      <td>0</td>\n",
       "      <td>crowdsignals.algosnap.com</td>\n",
       "      <td>1.0(1)</td>\n",
       "      <td>352622063881655</td>\n",
       "      <td>smartphone</td>\n",
       "      <td>-8</td>\n",
       "      <td>accelerometer</td>\n",
       "      <td>1464151427000000000</td>\n",
       "      <td>1464151428000000000</td>\n",
       "      <td>MPU6500 Acceleration Sensor</td>\n",
       "      <td>7.099407</td>\n",
       "      <td>0.325013</td>\n",
       "      <td>-7.398083</td>\n",
       "      <td>1464151427914081459</td>\n",
       "      <td>10.258598</td>\n",
       "    </tr>\n",
       "    <tr>\n",
       "      <th>24170</th>\n",
       "      <td>0</td>\n",
       "      <td>crowdsignals.algosnap.com</td>\n",
       "      <td>1.0(1)</td>\n",
       "      <td>352622063881655</td>\n",
       "      <td>smartphone</td>\n",
       "      <td>-8</td>\n",
       "      <td>accelerometer</td>\n",
       "      <td>1464151427000000000</td>\n",
       "      <td>1464151428000000000</td>\n",
       "      <td>MPU6500 Acceleration Sensor</td>\n",
       "      <td>6.992865</td>\n",
       "      <td>0.328604</td>\n",
       "      <td>-7.378930</td>\n",
       "      <td>1464151427919944010</td>\n",
       "      <td>10.171369</td>\n",
       "    </tr>\n",
       "    <tr>\n",
       "      <th>24171</th>\n",
       "      <td>0</td>\n",
       "      <td>crowdsignals.algosnap.com</td>\n",
       "      <td>1.0(1)</td>\n",
       "      <td>352622063881655</td>\n",
       "      <td>smartphone</td>\n",
       "      <td>-8</td>\n",
       "      <td>accelerometer</td>\n",
       "      <td>1464151427000000000</td>\n",
       "      <td>1464151428000000000</td>\n",
       "      <td>MPU6500 Acceleration Sensor</td>\n",
       "      <td>6.977901</td>\n",
       "      <td>0.339378</td>\n",
       "      <td>-7.310096</td>\n",
       "      <td>1464151427924138229</td>\n",
       "      <td>10.111567</td>\n",
       "    </tr>\n",
       "    <tr>\n",
       "      <th>24172</th>\n",
       "      <td>0</td>\n",
       "      <td>crowdsignals.algosnap.com</td>\n",
       "      <td>1.0(1)</td>\n",
       "      <td>352622063881655</td>\n",
       "      <td>smartphone</td>\n",
       "      <td>-8</td>\n",
       "      <td>accelerometer</td>\n",
       "      <td>1464151427000000000</td>\n",
       "      <td>1464151428000000000</td>\n",
       "      <td>MPU6500 Acceleration Sensor</td>\n",
       "      <td>7.049129</td>\n",
       "      <td>0.406416</td>\n",
       "      <td>-7.273585</td>\n",
       "      <td>1464151427929572188</td>\n",
       "      <td>10.137082</td>\n",
       "    </tr>\n",
       "    <tr>\n",
       "      <th>24173</th>\n",
       "      <td>0</td>\n",
       "      <td>crowdsignals.algosnap.com</td>\n",
       "      <td>1.0(1)</td>\n",
       "      <td>352622063881655</td>\n",
       "      <td>smartphone</td>\n",
       "      <td>-8</td>\n",
       "      <td>accelerometer</td>\n",
       "      <td>1464151427000000000</td>\n",
       "      <td>1464151428000000000</td>\n",
       "      <td>MPU6500 Acceleration Sensor</td>\n",
       "      <td>7.081450</td>\n",
       "      <td>0.435146</td>\n",
       "      <td>-7.226898</td>\n",
       "      <td>1464151427933706667</td>\n",
       "      <td>10.127405</td>\n",
       "    </tr>\n",
       "    <tr>\n",
       "      <th>24174</th>\n",
       "      <td>0</td>\n",
       "      <td>crowdsignals.algosnap.com</td>\n",
       "      <td>1.0(1)</td>\n",
       "      <td>352622063881655</td>\n",
       "      <td>smartphone</td>\n",
       "      <td>-8</td>\n",
       "      <td>accelerometer</td>\n",
       "      <td>1464151427000000000</td>\n",
       "      <td>1464151428000000000</td>\n",
       "      <td>MPU6500 Acceleration Sensor</td>\n",
       "      <td>7.036559</td>\n",
       "      <td>0.424372</td>\n",
       "      <td>-7.220313</td>\n",
       "      <td>1464151427939485833</td>\n",
       "      <td>10.090896</td>\n",
       "    </tr>\n",
       "    <tr>\n",
       "      <th>24175</th>\n",
       "      <td>0</td>\n",
       "      <td>crowdsignals.algosnap.com</td>\n",
       "      <td>1.0(1)</td>\n",
       "      <td>352622063881655</td>\n",
       "      <td>smartphone</td>\n",
       "      <td>-8</td>\n",
       "      <td>accelerometer</td>\n",
       "      <td>1464151427000000000</td>\n",
       "      <td>1464151428000000000</td>\n",
       "      <td>MPU6500 Acceleration Sensor</td>\n",
       "      <td>6.947973</td>\n",
       "      <td>0.404022</td>\n",
       "      <td>-7.211934</td>\n",
       "      <td>1464151427943585625</td>\n",
       "      <td>10.022453</td>\n",
       "    </tr>\n",
       "    <tr>\n",
       "      <th>24176</th>\n",
       "      <td>0</td>\n",
       "      <td>crowdsignals.algosnap.com</td>\n",
       "      <td>1.0(1)</td>\n",
       "      <td>352622063881655</td>\n",
       "      <td>smartphone</td>\n",
       "      <td>-8</td>\n",
       "      <td>accelerometer</td>\n",
       "      <td>1464151427000000000</td>\n",
       "      <td>1464151428000000000</td>\n",
       "      <td>MPU6500 Acceleration Sensor</td>\n",
       "      <td>7.000646</td>\n",
       "      <td>0.386664</td>\n",
       "      <td>-7.207744</td>\n",
       "      <td>1464151427949041094</td>\n",
       "      <td>10.055353</td>\n",
       "    </tr>\n",
       "    <tr>\n",
       "      <th>24177</th>\n",
       "      <td>0</td>\n",
       "      <td>crowdsignals.algosnap.com</td>\n",
       "      <td>1.0(1)</td>\n",
       "      <td>352622063881655</td>\n",
       "      <td>smartphone</td>\n",
       "      <td>-8</td>\n",
       "      <td>accelerometer</td>\n",
       "      <td>1464151427000000000</td>\n",
       "      <td>1464151428000000000</td>\n",
       "      <td>MPU6500 Acceleration Sensor</td>\n",
       "      <td>7.118560</td>\n",
       "      <td>0.397437</td>\n",
       "      <td>-7.288549</td>\n",
       "      <td>1464151427953172917</td>\n",
       "      <td>10.195823</td>\n",
       "    </tr>\n",
       "    <tr>\n",
       "      <th>24178</th>\n",
       "      <td>0</td>\n",
       "      <td>crowdsignals.algosnap.com</td>\n",
       "      <td>1.0(1)</td>\n",
       "      <td>352622063881655</td>\n",
       "      <td>smartphone</td>\n",
       "      <td>-8</td>\n",
       "      <td>accelerometer</td>\n",
       "      <td>1464151427000000000</td>\n",
       "      <td>1464151428000000000</td>\n",
       "      <td>MPU6500 Acceleration Sensor</td>\n",
       "      <td>7.088034</td>\n",
       "      <td>0.394445</td>\n",
       "      <td>-7.353192</td>\n",
       "      <td>1464151427958925104</td>\n",
       "      <td>10.220824</td>\n",
       "    </tr>\n",
       "    <tr>\n",
       "      <th>24179</th>\n",
       "      <td>0</td>\n",
       "      <td>crowdsignals.algosnap.com</td>\n",
       "      <td>1.0(1)</td>\n",
       "      <td>352622063881655</td>\n",
       "      <td>smartphone</td>\n",
       "      <td>-8</td>\n",
       "      <td>accelerometer</td>\n",
       "      <td>1464151427000000000</td>\n",
       "      <td>1464151428000000000</td>\n",
       "      <td>MPU6500 Acceleration Sensor</td>\n",
       "      <td>7.096414</td>\n",
       "      <td>0.425569</td>\n",
       "      <td>-7.437588</td>\n",
       "      <td>1464151427963090156</td>\n",
       "      <td>10.288727</td>\n",
       "    </tr>\n",
       "    <tr>\n",
       "      <th>24180</th>\n",
       "      <td>0</td>\n",
       "      <td>crowdsignals.algosnap.com</td>\n",
       "      <td>1.0(1)</td>\n",
       "      <td>352622063881655</td>\n",
       "      <td>smartphone</td>\n",
       "      <td>-8</td>\n",
       "      <td>accelerometer</td>\n",
       "      <td>1464151427000000000</td>\n",
       "      <td>1464151428000000000</td>\n",
       "      <td>MPU6500 Acceleration Sensor</td>\n",
       "      <td>7.158064</td>\n",
       "      <td>0.340575</td>\n",
       "      <td>-7.536947</td>\n",
       "      <td>1464151427968597813</td>\n",
       "      <td>10.399973</td>\n",
       "    </tr>\n",
       "    <tr>\n",
       "      <th>24181</th>\n",
       "      <td>0</td>\n",
       "      <td>crowdsignals.algosnap.com</td>\n",
       "      <td>1.0(1)</td>\n",
       "      <td>352622063881655</td>\n",
       "      <td>smartphone</td>\n",
       "      <td>-8</td>\n",
       "      <td>accelerometer</td>\n",
       "      <td>1464151427000000000</td>\n",
       "      <td>1464151428000000000</td>\n",
       "      <td>MPU6500 Acceleration Sensor</td>\n",
       "      <td>7.176620</td>\n",
       "      <td>0.310648</td>\n",
       "      <td>-7.600393</td>\n",
       "      <td>1464151427973667708</td>\n",
       "      <td>10.457837</td>\n",
       "    </tr>\n",
       "    <tr>\n",
       "      <th>24182</th>\n",
       "      <td>0</td>\n",
       "      <td>crowdsignals.algosnap.com</td>\n",
       "      <td>1.0(1)</td>\n",
       "      <td>352622063881655</td>\n",
       "      <td>smartphone</td>\n",
       "      <td>-8</td>\n",
       "      <td>accelerometer</td>\n",
       "      <td>1464151427000000000</td>\n",
       "      <td>1464151428000000000</td>\n",
       "      <td>MPU6500 Acceleration Sensor</td>\n",
       "      <td>7.135320</td>\n",
       "      <td>0.208894</td>\n",
       "      <td>-7.517195</td>\n",
       "      <td>1464151427979160677</td>\n",
       "      <td>10.366515</td>\n",
       "    </tr>\n",
       "    <tr>\n",
       "      <th>24183</th>\n",
       "      <td>0</td>\n",
       "      <td>crowdsignals.algosnap.com</td>\n",
       "      <td>1.0(1)</td>\n",
       "      <td>352622063881655</td>\n",
       "      <td>smartphone</td>\n",
       "      <td>-8</td>\n",
       "      <td>accelerometer</td>\n",
       "      <td>1464151427000000000</td>\n",
       "      <td>1464151428000000000</td>\n",
       "      <td>MPU6500 Acceleration Sensor</td>\n",
       "      <td>7.105990</td>\n",
       "      <td>0.148441</td>\n",
       "      <td>-7.378930</td>\n",
       "      <td>1464151427983388490</td>\n",
       "      <td>10.245279</td>\n",
       "    </tr>\n",
       "    <tr>\n",
       "      <th>24184</th>\n",
       "      <td>0</td>\n",
       "      <td>crowdsignals.algosnap.com</td>\n",
       "      <td>1.0(1)</td>\n",
       "      <td>352622063881655</td>\n",
       "      <td>smartphone</td>\n",
       "      <td>-8</td>\n",
       "      <td>accelerometer</td>\n",
       "      <td>1464151427000000000</td>\n",
       "      <td>1464151428000000000</td>\n",
       "      <td>MPU6500 Acceleration Sensor</td>\n",
       "      <td>7.104793</td>\n",
       "      <td>0.222062</td>\n",
       "      <td>-7.308899</td>\n",
       "      <td>1464151427989138386</td>\n",
       "      <td>10.195460</td>\n",
       "    </tr>\n",
       "    <tr>\n",
       "      <th>24185</th>\n",
       "      <td>0</td>\n",
       "      <td>crowdsignals.algosnap.com</td>\n",
       "      <td>1.0(1)</td>\n",
       "      <td>352622063881655</td>\n",
       "      <td>smartphone</td>\n",
       "      <td>-8</td>\n",
       "      <td>accelerometer</td>\n",
       "      <td>1464151427000000000</td>\n",
       "      <td>1464151428000000000</td>\n",
       "      <td>MPU6500 Acceleration Sensor</td>\n",
       "      <td>7.037756</td>\n",
       "      <td>0.310049</td>\n",
       "      <td>-7.229890</td>\n",
       "      <td>1464151427993425365</td>\n",
       "      <td>10.094427</td>\n",
       "    </tr>\n",
       "    <tr>\n",
       "      <th>24186</th>\n",
       "      <td>0</td>\n",
       "      <td>crowdsignals.algosnap.com</td>\n",
       "      <td>1.0(1)</td>\n",
       "      <td>352622063881655</td>\n",
       "      <td>smartphone</td>\n",
       "      <td>-8</td>\n",
       "      <td>accelerometer</td>\n",
       "      <td>1464151427000000000</td>\n",
       "      <td>1464151428000000000</td>\n",
       "      <td>MPU6500 Acceleration Sensor</td>\n",
       "      <td>7.020398</td>\n",
       "      <td>0.360926</td>\n",
       "      <td>-7.190985</td>\n",
       "      <td>1464151427998771511</td>\n",
       "      <td>10.056168</td>\n",
       "    </tr>\n",
       "  </tbody>\n",
       "</table>\n",
       "<p>24187 rows × 15 columns</p>\n",
       "</div>"
      ],
      "text/plain": [
       "       user_id                    sw_name sw_version        device_id  \\\n",
       "0            0  crowdsignals.algosnap.com     1.0(1)  352622063881655   \n",
       "1            0  crowdsignals.algosnap.com     1.0(1)  352622063881655   \n",
       "2            0  crowdsignals.algosnap.com     1.0(1)  352622063881655   \n",
       "3            0  crowdsignals.algosnap.com     1.0(1)  352622063881655   \n",
       "4            0  crowdsignals.algosnap.com     1.0(1)  352622063881655   \n",
       "5            0  crowdsignals.algosnap.com     1.0(1)  352622063881655   \n",
       "6            0  crowdsignals.algosnap.com     1.0(1)  352622063881655   \n",
       "7            0  crowdsignals.algosnap.com     1.0(1)  352622063881655   \n",
       "8            0  crowdsignals.algosnap.com     1.0(1)  352622063881655   \n",
       "9            0  crowdsignals.algosnap.com     1.0(1)  352622063881655   \n",
       "10           0  crowdsignals.algosnap.com     1.0(1)  352622063881655   \n",
       "11           0  crowdsignals.algosnap.com     1.0(1)  352622063881655   \n",
       "12           0  crowdsignals.algosnap.com     1.0(1)  352622063881655   \n",
       "13           0  crowdsignals.algosnap.com     1.0(1)  352622063881655   \n",
       "14           0  crowdsignals.algosnap.com     1.0(1)  352622063881655   \n",
       "15           0  crowdsignals.algosnap.com     1.0(1)  352622063881655   \n",
       "16           0  crowdsignals.algosnap.com     1.0(1)  352622063881655   \n",
       "17           0  crowdsignals.algosnap.com     1.0(1)  352622063881655   \n",
       "18           0  crowdsignals.algosnap.com     1.0(1)  352622063881655   \n",
       "19           0  crowdsignals.algosnap.com     1.0(1)  352622063881655   \n",
       "20           0  crowdsignals.algosnap.com     1.0(1)  352622063881655   \n",
       "21           0  crowdsignals.algosnap.com     1.0(1)  352622063881655   \n",
       "22           0  crowdsignals.algosnap.com     1.0(1)  352622063881655   \n",
       "23           0  crowdsignals.algosnap.com     1.0(1)  352622063881655   \n",
       "24           0  crowdsignals.algosnap.com     1.0(1)  352622063881655   \n",
       "25           0  crowdsignals.algosnap.com     1.0(1)  352622063881655   \n",
       "26           0  crowdsignals.algosnap.com     1.0(1)  352622063881655   \n",
       "27           0  crowdsignals.algosnap.com     1.0(1)  352622063881655   \n",
       "28           0  crowdsignals.algosnap.com     1.0(1)  352622063881655   \n",
       "29           0  crowdsignals.algosnap.com     1.0(1)  352622063881655   \n",
       "...        ...                        ...        ...              ...   \n",
       "24157        0  crowdsignals.algosnap.com     1.0(1)  352622063881655   \n",
       "24158        0  crowdsignals.algosnap.com     1.0(1)  352622063881655   \n",
       "24159        0  crowdsignals.algosnap.com     1.0(1)  352622063881655   \n",
       "24160        0  crowdsignals.algosnap.com     1.0(1)  352622063881655   \n",
       "24161        0  crowdsignals.algosnap.com     1.0(1)  352622063881655   \n",
       "24162        0  crowdsignals.algosnap.com     1.0(1)  352622063881655   \n",
       "24163        0  crowdsignals.algosnap.com     1.0(1)  352622063881655   \n",
       "24164        0  crowdsignals.algosnap.com     1.0(1)  352622063881655   \n",
       "24165        0  crowdsignals.algosnap.com     1.0(1)  352622063881655   \n",
       "24166        0  crowdsignals.algosnap.com     1.0(1)  352622063881655   \n",
       "24167        0  crowdsignals.algosnap.com     1.0(1)  352622063881655   \n",
       "24168        0  crowdsignals.algosnap.com     1.0(1)  352622063881655   \n",
       "24169        0  crowdsignals.algosnap.com     1.0(1)  352622063881655   \n",
       "24170        0  crowdsignals.algosnap.com     1.0(1)  352622063881655   \n",
       "24171        0  crowdsignals.algosnap.com     1.0(1)  352622063881655   \n",
       "24172        0  crowdsignals.algosnap.com     1.0(1)  352622063881655   \n",
       "24173        0  crowdsignals.algosnap.com     1.0(1)  352622063881655   \n",
       "24174        0  crowdsignals.algosnap.com     1.0(1)  352622063881655   \n",
       "24175        0  crowdsignals.algosnap.com     1.0(1)  352622063881655   \n",
       "24176        0  crowdsignals.algosnap.com     1.0(1)  352622063881655   \n",
       "24177        0  crowdsignals.algosnap.com     1.0(1)  352622063881655   \n",
       "24178        0  crowdsignals.algosnap.com     1.0(1)  352622063881655   \n",
       "24179        0  crowdsignals.algosnap.com     1.0(1)  352622063881655   \n",
       "24180        0  crowdsignals.algosnap.com     1.0(1)  352622063881655   \n",
       "24181        0  crowdsignals.algosnap.com     1.0(1)  352622063881655   \n",
       "24182        0  crowdsignals.algosnap.com     1.0(1)  352622063881655   \n",
       "24183        0  crowdsignals.algosnap.com     1.0(1)  352622063881655   \n",
       "24184        0  crowdsignals.algosnap.com     1.0(1)  352622063881655   \n",
       "24185        0  crowdsignals.algosnap.com     1.0(1)  352622063881655   \n",
       "24186        0  crowdsignals.algosnap.com     1.0(1)  352622063881655   \n",
       "\n",
       "      device_type  timezone           type                start  \\\n",
       "0      smartphone        -8  accelerometer  1464151307000000000   \n",
       "1      smartphone        -8  accelerometer  1464151307000000000   \n",
       "2      smartphone        -8  accelerometer  1464151307000000000   \n",
       "3      smartphone        -8  accelerometer  1464151307000000000   \n",
       "4      smartphone        -8  accelerometer  1464151308000000000   \n",
       "5      smartphone        -8  accelerometer  1464151308000000000   \n",
       "6      smartphone        -8  accelerometer  1464151308000000000   \n",
       "7      smartphone        -8  accelerometer  1464151308000000000   \n",
       "8      smartphone        -8  accelerometer  1464151308000000000   \n",
       "9      smartphone        -8  accelerometer  1464151308000000000   \n",
       "10     smartphone        -8  accelerometer  1464151308000000000   \n",
       "11     smartphone        -8  accelerometer  1464151308000000000   \n",
       "12     smartphone        -8  accelerometer  1464151308000000000   \n",
       "13     smartphone        -8  accelerometer  1464151308000000000   \n",
       "14     smartphone        -8  accelerometer  1464151308000000000   \n",
       "15     smartphone        -8  accelerometer  1464151308000000000   \n",
       "16     smartphone        -8  accelerometer  1464151308000000000   \n",
       "17     smartphone        -8  accelerometer  1464151308000000000   \n",
       "18     smartphone        -8  accelerometer  1464151308000000000   \n",
       "19     smartphone        -8  accelerometer  1464151308000000000   \n",
       "20     smartphone        -8  accelerometer  1464151308000000000   \n",
       "21     smartphone        -8  accelerometer  1464151308000000000   \n",
       "22     smartphone        -8  accelerometer  1464151308000000000   \n",
       "23     smartphone        -8  accelerometer  1464151308000000000   \n",
       "24     smartphone        -8  accelerometer  1464151308000000000   \n",
       "25     smartphone        -8  accelerometer  1464151308000000000   \n",
       "26     smartphone        -8  accelerometer  1464151308000000000   \n",
       "27     smartphone        -8  accelerometer  1464151308000000000   \n",
       "28     smartphone        -8  accelerometer  1464151308000000000   \n",
       "29     smartphone        -8  accelerometer  1464151308000000000   \n",
       "...           ...       ...            ...                  ...   \n",
       "24157  smartphone        -8  accelerometer  1464151427000000000   \n",
       "24158  smartphone        -8  accelerometer  1464151427000000000   \n",
       "24159  smartphone        -8  accelerometer  1464151427000000000   \n",
       "24160  smartphone        -8  accelerometer  1464151427000000000   \n",
       "24161  smartphone        -8  accelerometer  1464151427000000000   \n",
       "24162  smartphone        -8  accelerometer  1464151427000000000   \n",
       "24163  smartphone        -8  accelerometer  1464151427000000000   \n",
       "24164  smartphone        -8  accelerometer  1464151427000000000   \n",
       "24165  smartphone        -8  accelerometer  1464151427000000000   \n",
       "24166  smartphone        -8  accelerometer  1464151427000000000   \n",
       "24167  smartphone        -8  accelerometer  1464151427000000000   \n",
       "24168  smartphone        -8  accelerometer  1464151427000000000   \n",
       "24169  smartphone        -8  accelerometer  1464151427000000000   \n",
       "24170  smartphone        -8  accelerometer  1464151427000000000   \n",
       "24171  smartphone        -8  accelerometer  1464151427000000000   \n",
       "24172  smartphone        -8  accelerometer  1464151427000000000   \n",
       "24173  smartphone        -8  accelerometer  1464151427000000000   \n",
       "24174  smartphone        -8  accelerometer  1464151427000000000   \n",
       "24175  smartphone        -8  accelerometer  1464151427000000000   \n",
       "24176  smartphone        -8  accelerometer  1464151427000000000   \n",
       "24177  smartphone        -8  accelerometer  1464151427000000000   \n",
       "24178  smartphone        -8  accelerometer  1464151427000000000   \n",
       "24179  smartphone        -8  accelerometer  1464151427000000000   \n",
       "24180  smartphone        -8  accelerometer  1464151427000000000   \n",
       "24181  smartphone        -8  accelerometer  1464151427000000000   \n",
       "24182  smartphone        -8  accelerometer  1464151427000000000   \n",
       "24183  smartphone        -8  accelerometer  1464151427000000000   \n",
       "24184  smartphone        -8  accelerometer  1464151427000000000   \n",
       "24185  smartphone        -8  accelerometer  1464151427000000000   \n",
       "24186  smartphone        -8  accelerometer  1464151427000000000   \n",
       "\n",
       "                       end                  sensor_name         x         y  \\\n",
       "0      1464151308000000000  MPU6500 Acceleration Sensor -0.705691  5.699995   \n",
       "1      1464151308000000000  MPU6500 Acceleration Sensor -0.745794  5.732317   \n",
       "2      1464151308000000000  MPU6500 Acceleration Sensor -0.778714  5.747281   \n",
       "3      1464151308000000000  MPU6500 Acceleration Sensor -0.820014  5.723339   \n",
       "4      1464151309000000000  MPU6500 Acceleration Sensor -0.791284  5.643134   \n",
       "5      1464151309000000000  MPU6500 Acceleration Sensor -0.815824  5.643732   \n",
       "6      1464151309000000000  MPU6500 Acceleration Sensor -0.833781  5.668272   \n",
       "7      1464151309000000000  MPU6500 Acceleration Sensor -0.910994  5.744288   \n",
       "8      1464151309000000000  MPU6500 Acceleration Sensor -0.934337  5.786187   \n",
       "9      1464151309000000000  MPU6500 Acceleration Sensor -0.893037  5.763442   \n",
       "10     1464151309000000000  MPU6500 Acceleration Sensor -0.839766  5.721543   \n",
       "11     1464151309000000000  MPU6500 Acceleration Sensor -0.812233  5.701791   \n",
       "12     1464151309000000000  MPU6500 Acceleration Sensor -0.773926  5.638345   \n",
       "13     1464151309000000000  MPU6500 Acceleration Sensor -0.720056  5.621585   \n",
       "14     1464151309000000000  MPU6500 Acceleration Sensor -0.666187  5.583877   \n",
       "15     1464151309000000000  MPU6500 Acceleration Sensor -0.614113  5.617396   \n",
       "16     1464151309000000000  MPU6500 Acceleration Sensor -0.614113  5.617396   \n",
       "17     1464151309000000000  MPU6500 Acceleration Sensor -0.665588  5.673061   \n",
       "18     1464151309000000000  MPU6500 Acceleration Sensor -0.665588  5.673061   \n",
       "19     1464151309000000000  MPU6500 Acceleration Sensor -0.733224  5.633556   \n",
       "20     1464151309000000000  MPU6500 Acceleration Sensor -0.733224  5.633556   \n",
       "21     1464151309000000000  MPU6500 Acceleration Sensor -0.666187  5.634155   \n",
       "22     1464151309000000000  MPU6500 Acceleration Sensor -0.666187  5.634155   \n",
       "23     1464151309000000000  MPU6500 Acceleration Sensor -0.632069  5.693412   \n",
       "24     1464151309000000000  MPU6500 Acceleration Sensor -0.632069  5.693412   \n",
       "25     1464151309000000000  MPU6500 Acceleration Sensor -0.623690  5.797559   \n",
       "26     1464151309000000000  MPU6500 Acceleration Sensor -0.623690  5.797559   \n",
       "27     1464151309000000000  MPU6500 Acceleration Sensor -0.606930  5.778406   \n",
       "28     1464151309000000000  MPU6500 Acceleration Sensor -0.645836  5.762245   \n",
       "29     1464151309000000000  MPU6500 Acceleration Sensor -0.622492  5.753865   \n",
       "...                    ...                          ...       ...       ...   \n",
       "24157  1464151428000000000  MPU6500 Acceleration Sensor  6.884527  0.279523   \n",
       "24158  1464151428000000000  MPU6500 Acceleration Sensor  7.047333  0.396240   \n",
       "24159  1464151428000000000  MPU6500 Acceleration Sensor  7.047333  0.396240   \n",
       "24160  1464151428000000000  MPU6500 Acceleration Sensor  6.817489  0.511162   \n",
       "24161  1464151428000000000  MPU6500 Acceleration Sensor  6.817489  0.511162   \n",
       "24162  1464151428000000000  MPU6500 Acceleration Sensor  7.079056  0.384868   \n",
       "24163  1464151428000000000  MPU6500 Acceleration Sensor  7.079056  0.384868   \n",
       "24164  1464151428000000000  MPU6500 Acceleration Sensor  6.900688  0.451307   \n",
       "24165  1464151428000000000  MPU6500 Acceleration Sensor  6.900688  0.451307   \n",
       "24166  1464151428000000000  MPU6500 Acceleration Sensor  6.922235  0.441730   \n",
       "24167  1464151428000000000  MPU6500 Acceleration Sensor  7.065289  0.360327   \n",
       "24168  1464151428000000000  MPU6500 Acceleration Sensor  7.189788  0.408211   \n",
       "24169  1464151428000000000  MPU6500 Acceleration Sensor  7.099407  0.325013   \n",
       "24170  1464151428000000000  MPU6500 Acceleration Sensor  6.992865  0.328604   \n",
       "24171  1464151428000000000  MPU6500 Acceleration Sensor  6.977901  0.339378   \n",
       "24172  1464151428000000000  MPU6500 Acceleration Sensor  7.049129  0.406416   \n",
       "24173  1464151428000000000  MPU6500 Acceleration Sensor  7.081450  0.435146   \n",
       "24174  1464151428000000000  MPU6500 Acceleration Sensor  7.036559  0.424372   \n",
       "24175  1464151428000000000  MPU6500 Acceleration Sensor  6.947973  0.404022   \n",
       "24176  1464151428000000000  MPU6500 Acceleration Sensor  7.000646  0.386664   \n",
       "24177  1464151428000000000  MPU6500 Acceleration Sensor  7.118560  0.397437   \n",
       "24178  1464151428000000000  MPU6500 Acceleration Sensor  7.088034  0.394445   \n",
       "24179  1464151428000000000  MPU6500 Acceleration Sensor  7.096414  0.425569   \n",
       "24180  1464151428000000000  MPU6500 Acceleration Sensor  7.158064  0.340575   \n",
       "24181  1464151428000000000  MPU6500 Acceleration Sensor  7.176620  0.310648   \n",
       "24182  1464151428000000000  MPU6500 Acceleration Sensor  7.135320  0.208894   \n",
       "24183  1464151428000000000  MPU6500 Acceleration Sensor  7.105990  0.148441   \n",
       "24184  1464151428000000000  MPU6500 Acceleration Sensor  7.104793  0.222062   \n",
       "24185  1464151428000000000  MPU6500 Acceleration Sensor  7.037756  0.310049   \n",
       "24186  1464151428000000000  MPU6500 Acceleration Sensor  7.020398  0.360926   \n",
       "\n",
       "              z           timestamps        acc  \n",
       "0      7.353192  1464151307983320729   9.330454  \n",
       "1      7.289746  1464151307985175416   9.303551  \n",
       "2      7.283162  1464151307991062500   9.310321  \n",
       "3      7.271191  1464151307995100260   9.289739  \n",
       "4      7.463325  1464151308004968906   9.390011  \n",
       "5      7.541137  1464151308010549532   9.454418  \n",
       "6      7.583634  1464151308014715261   9.504526  \n",
       "7      7.678205  1464151308021345938   9.632320  \n",
       "8      7.731476  1464151308025552240   9.701993  \n",
       "9      7.766192  1464151308031067188   9.712287  \n",
       "10     7.752425  1464151308035358333   9.671678  \n",
       "11     7.718906  1464151308040805834   9.630766  \n",
       "12     7.660248  1464151308045110573   9.543024  \n",
       "13     7.601591  1464151308050631615   9.481819  \n",
       "14     7.514801  1464151308054880990   9.385932  \n",
       "15     7.429208  1464151308060468438   9.334099  \n",
       "16     7.429208  1464151308064638230   9.334099  \n",
       "17     7.490859  1464151308070134272   9.420169  \n",
       "18     7.490859  1464151308074368750   9.420169  \n",
       "19     7.526771  1464151308079980104   9.430104  \n",
       "20     7.526771  1464151308084187344   9.430104  \n",
       "21     7.478289  1464151308089731615   9.386816  \n",
       "22     7.478289  1464151308093919531   9.386816  \n",
       "23     7.469909  1464151308099404583   9.413501  \n",
       "24     7.469909  1464151308104638697   9.413501  \n",
       "25     7.533954  1464151308110467292   9.526864  \n",
       "26     7.533954  1464151308114415781   9.526864  \n",
       "27     7.560290  1464151308119990313   9.535005  \n",
       "28     7.608174  1464151308124233229   9.565819  \n",
       "29     7.583634  1464151308129780312   9.539705  \n",
       "...         ...                  ...        ...  \n",
       "24157 -7.310695  1464151427855147083  10.045950  \n",
       "24158 -7.277775  1464151427860266719  10.138438  \n",
       "24159 -7.277775  1464151427864772500  10.138438  \n",
       "24160 -7.496245  1464151427869986979  10.145597  \n",
       "24161 -7.496245  1464151427873979167  10.145597  \n",
       "24162 -7.590218  1464151427880536251  10.386172  \n",
       "24163 -7.590218  1464151427884591614  10.386172  \n",
       "24164 -7.486669  1464151427890098490  10.191829  \n",
       "24165 -7.486669  1464151427894117344  10.191829  \n",
       "24166 -7.471705  1464151427900167708  10.195040  \n",
       "24167 -7.478888  1464151427903524428  10.294751  \n",
       "24168 -7.423223  1464151427910080885  10.342336  \n",
       "24169 -7.398083  1464151427914081459  10.258598  \n",
       "24170 -7.378930  1464151427919944010  10.171369  \n",
       "24171 -7.310096  1464151427924138229  10.111567  \n",
       "24172 -7.273585  1464151427929572188  10.137082  \n",
       "24173 -7.226898  1464151427933706667  10.127405  \n",
       "24174 -7.220313  1464151427939485833  10.090896  \n",
       "24175 -7.211934  1464151427943585625  10.022453  \n",
       "24176 -7.207744  1464151427949041094  10.055353  \n",
       "24177 -7.288549  1464151427953172917  10.195823  \n",
       "24178 -7.353192  1464151427958925104  10.220824  \n",
       "24179 -7.437588  1464151427963090156  10.288727  \n",
       "24180 -7.536947  1464151427968597813  10.399973  \n",
       "24181 -7.600393  1464151427973667708  10.457837  \n",
       "24182 -7.517195  1464151427979160677  10.366515  \n",
       "24183 -7.378930  1464151427983388490  10.245279  \n",
       "24184 -7.308899  1464151427989138386  10.195460  \n",
       "24185 -7.229890  1464151427993425365  10.094427  \n",
       "24186 -7.190985  1464151427998771511  10.056168  \n",
       "\n",
       "[24187 rows x 15 columns]"
      ]
     },
     "execution_count": 4,
     "metadata": {},
     "output_type": "execute_result"
    }
   ],
   "source": [
    "accDf.head(300000000)\n"
   ]
  },
  {
   "cell_type": "code",
   "execution_count": null,
   "metadata": {
    "collapsed": true
   },
   "outputs": [],
   "source": []
  },
  {
   "cell_type": "code",
   "execution_count": null,
   "metadata": {
    "collapsed": true
   },
   "outputs": [],
   "source": []
  },
  {
   "cell_type": "code",
   "execution_count": null,
   "metadata": {
    "collapsed": true
   },
   "outputs": [],
   "source": []
  },
  {
   "cell_type": "code",
   "execution_count": null,
   "metadata": {
    "collapsed": true
   },
   "outputs": [],
   "source": []
  },
  {
   "cell_type": "code",
   "execution_count": null,
   "metadata": {
    "collapsed": true
   },
   "outputs": [],
   "source": []
  },
  {
   "cell_type": "code",
   "execution_count": null,
   "metadata": {
    "collapsed": true
   },
   "outputs": [],
   "source": []
  },
  {
   "cell_type": "code",
   "execution_count": null,
   "metadata": {
    "collapsed": true
   },
   "outputs": [],
   "source": []
  },
  {
   "cell_type": "code",
   "execution_count": null,
   "metadata": {
    "collapsed": true
   },
   "outputs": [],
   "source": []
  },
  {
   "cell_type": "code",
   "execution_count": null,
   "metadata": {
    "collapsed": true
   },
   "outputs": [],
   "source": []
  },
  {
   "cell_type": "code",
   "execution_count": null,
   "metadata": {
    "collapsed": true
   },
   "outputs": [],
   "source": []
  },
  {
   "cell_type": "code",
   "execution_count": null,
   "metadata": {
    "collapsed": true
   },
   "outputs": [],
   "source": []
  },
  {
   "cell_type": "code",
   "execution_count": null,
   "metadata": {
    "collapsed": true
   },
   "outputs": [],
   "source": []
  },
  {
   "cell_type": "code",
   "execution_count": null,
   "metadata": {
    "collapsed": true
   },
   "outputs": [],
   "source": []
  },
  {
   "cell_type": "code",
   "execution_count": null,
   "metadata": {
    "collapsed": true
   },
   "outputs": [],
   "source": []
  },
  {
   "cell_type": "code",
   "execution_count": null,
   "metadata": {
    "collapsed": true
   },
   "outputs": [],
   "source": []
  },
  {
   "cell_type": "code",
   "execution_count": null,
   "metadata": {
    "collapsed": true
   },
   "outputs": [],
   "source": []
  },
  {
   "cell_type": "code",
   "execution_count": null,
   "metadata": {
    "collapsed": true
   },
   "outputs": [],
   "source": []
  },
  {
   "cell_type": "code",
   "execution_count": null,
   "metadata": {
    "collapsed": true
   },
   "outputs": [],
   "source": []
  },
  {
   "cell_type": "code",
   "execution_count": null,
   "metadata": {
    "collapsed": true
   },
   "outputs": [],
   "source": []
  },
  {
   "cell_type": "code",
   "execution_count": null,
   "metadata": {
    "collapsed": true
   },
   "outputs": [],
   "source": []
  },
  {
   "cell_type": "code",
   "execution_count": null,
   "metadata": {
    "collapsed": true
   },
   "outputs": [],
   "source": []
  },
  {
   "cell_type": "code",
   "execution_count": null,
   "metadata": {
    "collapsed": true
   },
   "outputs": [],
   "source": []
  },
  {
   "cell_type": "code",
   "execution_count": null,
   "metadata": {
    "collapsed": true
   },
   "outputs": [],
   "source": []
  },
  {
   "cell_type": "code",
   "execution_count": null,
   "metadata": {
    "collapsed": true
   },
   "outputs": [],
   "source": []
  },
  {
   "cell_type": "code",
   "execution_count": null,
   "metadata": {
    "collapsed": true
   },
   "outputs": [],
   "source": []
  },
  {
   "cell_type": "code",
   "execution_count": null,
   "metadata": {
    "collapsed": true
   },
   "outputs": [],
   "source": []
  },
  {
   "cell_type": "code",
   "execution_count": null,
   "metadata": {
    "collapsed": true
   },
   "outputs": [],
   "source": []
  },
  {
   "cell_type": "code",
   "execution_count": null,
   "metadata": {
    "collapsed": true
   },
   "outputs": [],
   "source": []
  },
  {
   "cell_type": "code",
   "execution_count": null,
   "metadata": {
    "collapsed": true
   },
   "outputs": [],
   "source": []
  },
  {
   "cell_type": "code",
   "execution_count": null,
   "metadata": {
    "collapsed": true
   },
   "outputs": [],
   "source": []
  },
  {
   "cell_type": "code",
   "execution_count": null,
   "metadata": {
    "collapsed": true
   },
   "outputs": [],
   "source": []
  },
  {
   "cell_type": "code",
   "execution_count": null,
   "metadata": {
    "collapsed": true
   },
   "outputs": [],
   "source": []
  },
  {
   "cell_type": "code",
   "execution_count": null,
   "metadata": {
    "collapsed": true
   },
   "outputs": [],
   "source": []
  },
  {
   "cell_type": "code",
   "execution_count": null,
   "metadata": {
    "collapsed": true
   },
   "outputs": [],
   "source": []
  },
  {
   "cell_type": "code",
   "execution_count": null,
   "metadata": {
    "collapsed": true
   },
   "outputs": [],
   "source": []
  },
  {
   "cell_type": "code",
   "execution_count": null,
   "metadata": {
    "collapsed": true
   },
   "outputs": [],
   "source": []
  },
  {
   "cell_type": "code",
   "execution_count": null,
   "metadata": {
    "collapsed": true
   },
   "outputs": [],
   "source": []
  },
  {
   "cell_type": "code",
   "execution_count": null,
   "metadata": {
    "collapsed": true
   },
   "outputs": [],
   "source": []
  },
  {
   "cell_type": "code",
   "execution_count": null,
   "metadata": {
    "collapsed": true
   },
   "outputs": [],
   "source": []
  },
  {
   "cell_type": "code",
   "execution_count": null,
   "metadata": {
    "collapsed": true
   },
   "outputs": [],
   "source": []
  },
  {
   "cell_type": "code",
   "execution_count": null,
   "metadata": {
    "collapsed": true
   },
   "outputs": [],
   "source": []
  },
  {
   "cell_type": "code",
   "execution_count": null,
   "metadata": {
    "collapsed": true
   },
   "outputs": [],
   "source": []
  },
  {
   "cell_type": "code",
   "execution_count": null,
   "metadata": {
    "collapsed": true
   },
   "outputs": [],
   "source": []
  },
  {
   "cell_type": "code",
   "execution_count": null,
   "metadata": {
    "collapsed": true
   },
   "outputs": [],
   "source": []
  },
  {
   "cell_type": "code",
   "execution_count": null,
   "metadata": {
    "collapsed": true
   },
   "outputs": [],
   "source": []
  },
  {
   "cell_type": "code",
   "execution_count": null,
   "metadata": {
    "collapsed": true
   },
   "outputs": [],
   "source": []
  },
  {
   "cell_type": "code",
   "execution_count": null,
   "metadata": {
    "collapsed": true
   },
   "outputs": [],
   "source": []
  },
  {
   "cell_type": "code",
   "execution_count": null,
   "metadata": {
    "collapsed": true
   },
   "outputs": [],
   "source": []
  },
  {
   "cell_type": "code",
   "execution_count": null,
   "metadata": {
    "collapsed": true
   },
   "outputs": [],
   "source": []
  },
  {
   "cell_type": "code",
   "execution_count": null,
   "metadata": {
    "collapsed": true
   },
   "outputs": [],
   "source": []
  },
  {
   "cell_type": "code",
   "execution_count": 31,
   "metadata": {
    "collapsed": false
   },
   "outputs": [
    {
     "data": {
      "text/html": [
       "<div>\n",
       "<table border=\"1\" class=\"dataframe\">\n",
       "  <thead>\n",
       "    <tr style=\"text-align: right;\">\n",
       "      <th></th>\n",
       "      <th>user_id</th>\n",
       "      <th>sw_name</th>\n",
       "      <th>sw_version</th>\n",
       "      <th>device_id</th>\n",
       "      <th>device_type</th>\n",
       "      <th>timezone</th>\n",
       "      <th>type</th>\n",
       "      <th>start</th>\n",
       "      <th>end</th>\n",
       "      <th>app</th>\n",
       "      <th>process</th>\n",
       "      <th>timestamps</th>\n",
       "    </tr>\n",
       "  </thead>\n",
       "  <tbody>\n",
       "    <tr>\n",
       "      <th>0</th>\n",
       "      <td>0</td>\n",
       "      <td>crowdsignals.algosnap.com</td>\n",
       "      <td>1.0(1)</td>\n",
       "      <td>352622063881655</td>\n",
       "      <td>smartphone</td>\n",
       "      <td>-8</td>\n",
       "      <td>apps</td>\n",
       "      <td>1464151307847000000</td>\n",
       "      <td>1464151307847000000</td>\n",
       "      <td>CrowdSignals.io</td>\n",
       "      <td>com.algosnap.crowdsignals</td>\n",
       "      <td>1464151307847000000</td>\n",
       "    </tr>\n",
       "    <tr>\n",
       "      <th>1</th>\n",
       "      <td>0</td>\n",
       "      <td>crowdsignals.algosnap.com</td>\n",
       "      <td>1.0(1)</td>\n",
       "      <td>352622063881655</td>\n",
       "      <td>smartphone</td>\n",
       "      <td>-8</td>\n",
       "      <td>apps</td>\n",
       "      <td>1464151307847000000</td>\n",
       "      <td>1464151307847000000</td>\n",
       "      <td>TouchWiz home</td>\n",
       "      <td>com.sec.android.app.launcher</td>\n",
       "      <td>1464151307847000000</td>\n",
       "    </tr>\n",
       "    <tr>\n",
       "      <th>2</th>\n",
       "      <td>0</td>\n",
       "      <td>crowdsignals.algosnap.com</td>\n",
       "      <td>1.0(1)</td>\n",
       "      <td>352622063881655</td>\n",
       "      <td>smartphone</td>\n",
       "      <td>-8</td>\n",
       "      <td>apps</td>\n",
       "      <td>1464151307847000000</td>\n",
       "      <td>1464151307847000000</td>\n",
       "      <td>Microsoft Health</td>\n",
       "      <td>com.microsoft.kapp:BandService</td>\n",
       "      <td>1464151307847000000</td>\n",
       "    </tr>\n",
       "  </tbody>\n",
       "</table>\n",
       "</div>"
      ],
      "text/plain": [
       "   user_id                    sw_name sw_version        device_id device_type  \\\n",
       "0        0  crowdsignals.algosnap.com     1.0(1)  352622063881655  smartphone   \n",
       "1        0  crowdsignals.algosnap.com     1.0(1)  352622063881655  smartphone   \n",
       "2        0  crowdsignals.algosnap.com     1.0(1)  352622063881655  smartphone   \n",
       "\n",
       "   timezone  type                start                  end               app  \\\n",
       "0        -8  apps  1464151307847000000  1464151307847000000   CrowdSignals.io   \n",
       "1        -8  apps  1464151307847000000  1464151307847000000     TouchWiz home   \n",
       "2        -8  apps  1464151307847000000  1464151307847000000  Microsoft Health   \n",
       "\n",
       "                          process           timestamps  \n",
       "0       com.algosnap.crowdsignals  1464151307847000000  \n",
       "1    com.sec.android.app.launcher  1464151307847000000  \n",
       "2  com.microsoft.kapp:BandService  1464151307847000000  "
      ]
     },
     "execution_count": 31,
     "metadata": {},
     "output_type": "execute_result"
    }
   ],
   "source": [
    "appDf = pd.read_csv('/Users/yalcin.yenigun/dev/workspaces/gsu/Sample Dataset/Driving-Transit/Driving Car/csv/0_Apps-352622063881655_1464151309092.csv')\n",
    "appDf.head(3)"
   ]
  },
  {
   "cell_type": "code",
   "execution_count": null,
   "metadata": {
    "collapsed": true
   },
   "outputs": [],
   "source": []
  },
  {
   "cell_type": "code",
   "execution_count": 29,
   "metadata": {
    "collapsed": false
   },
   "outputs": [
    {
     "data": {
      "text/html": [
       "<div>\n",
       "<table border=\"1\" class=\"dataframe\">\n",
       "  <thead>\n",
       "    <tr style=\"text-align: right;\">\n",
       "      <th></th>\n",
       "      <th>user_id</th>\n",
       "      <th>sw_name</th>\n",
       "      <th>sw_version</th>\n",
       "      <th>device_id</th>\n",
       "      <th>device_type</th>\n",
       "      <th>timezone</th>\n",
       "      <th>type</th>\n",
       "      <th>start</th>\n",
       "      <th>end</th>\n",
       "      <th>app</th>\n",
       "      <th>process</th>\n",
       "      <th>timestamps</th>\n",
       "    </tr>\n",
       "  </thead>\n",
       "  <tbody>\n",
       "    <tr>\n",
       "      <th>0</th>\n",
       "      <td>0</td>\n",
       "      <td>crowdsignals.algosnap.com</td>\n",
       "      <td>1.0(1)</td>\n",
       "      <td>352622063881655</td>\n",
       "      <td>smartphone</td>\n",
       "      <td>-8</td>\n",
       "      <td>apps</td>\n",
       "      <td>1464151307847000000</td>\n",
       "      <td>1464151307847000000</td>\n",
       "      <td>CrowdSignals.io</td>\n",
       "      <td>com.algosnap.crowdsignals</td>\n",
       "      <td>1464151307847000000</td>\n",
       "    </tr>\n",
       "    <tr>\n",
       "      <th>1</th>\n",
       "      <td>0</td>\n",
       "      <td>crowdsignals.algosnap.com</td>\n",
       "      <td>1.0(1)</td>\n",
       "      <td>352622063881655</td>\n",
       "      <td>smartphone</td>\n",
       "      <td>-8</td>\n",
       "      <td>apps</td>\n",
       "      <td>1464151307847000000</td>\n",
       "      <td>1464151307847000000</td>\n",
       "      <td>TouchWiz home</td>\n",
       "      <td>com.sec.android.app.launcher</td>\n",
       "      <td>1464151307847000000</td>\n",
       "    </tr>\n",
       "    <tr>\n",
       "      <th>2</th>\n",
       "      <td>0</td>\n",
       "      <td>crowdsignals.algosnap.com</td>\n",
       "      <td>1.0(1)</td>\n",
       "      <td>352622063881655</td>\n",
       "      <td>smartphone</td>\n",
       "      <td>-8</td>\n",
       "      <td>apps</td>\n",
       "      <td>1464151307847000000</td>\n",
       "      <td>1464151307847000000</td>\n",
       "      <td>Microsoft Health</td>\n",
       "      <td>com.microsoft.kapp:BandService</td>\n",
       "      <td>1464151307847000000</td>\n",
       "    </tr>\n",
       "  </tbody>\n",
       "</table>\n",
       "</div>"
      ],
      "text/plain": [
       "   user_id                    sw_name sw_version        device_id device_type  \\\n",
       "0        0  crowdsignals.algosnap.com     1.0(1)  352622063881655  smartphone   \n",
       "1        0  crowdsignals.algosnap.com     1.0(1)  352622063881655  smartphone   \n",
       "2        0  crowdsignals.algosnap.com     1.0(1)  352622063881655  smartphone   \n",
       "\n",
       "   timezone  type                start                  end               app  \\\n",
       "0        -8  apps  1464151307847000000  1464151307847000000   CrowdSignals.io   \n",
       "1        -8  apps  1464151307847000000  1464151307847000000     TouchWiz home   \n",
       "2        -8  apps  1464151307847000000  1464151307847000000  Microsoft Health   \n",
       "\n",
       "                          process           timestamps  \n",
       "0       com.algosnap.crowdsignals  1464151307847000000  \n",
       "1    com.sec.android.app.launcher  1464151307847000000  \n",
       "2  com.microsoft.kapp:BandService  1464151307847000000  "
      ]
     },
     "execution_count": 29,
     "metadata": {},
     "output_type": "execute_result"
    }
   ],
   "source": []
  },
  {
   "cell_type": "code",
   "execution_count": null,
   "metadata": {
    "collapsed": true
   },
   "outputs": [],
   "source": []
  },
  {
   "cell_type": "code",
   "execution_count": null,
   "metadata": {
    "collapsed": true
   },
   "outputs": [],
   "source": []
  },
  {
   "cell_type": "code",
   "execution_count": null,
   "metadata": {
    "collapsed": true
   },
   "outputs": [],
   "source": []
  },
  {
   "cell_type": "code",
   "execution_count": null,
   "metadata": {
    "collapsed": true
   },
   "outputs": [],
   "source": []
  },
  {
   "cell_type": "code",
   "execution_count": null,
   "metadata": {
    "collapsed": true
   },
   "outputs": [],
   "source": []
  },
  {
   "cell_type": "code",
   "execution_count": null,
   "metadata": {
    "collapsed": true
   },
   "outputs": [],
   "source": []
  },
  {
   "cell_type": "code",
   "execution_count": null,
   "metadata": {
    "collapsed": true
   },
   "outputs": [],
   "source": []
  },
  {
   "cell_type": "code",
   "execution_count": null,
   "metadata": {
    "collapsed": true
   },
   "outputs": [],
   "source": []
  },
  {
   "cell_type": "code",
   "execution_count": 18,
   "metadata": {
    "collapsed": false
   },
   "outputs": [
    {
     "ename": "SyntaxError",
     "evalue": "invalid syntax (<ipython-input-18-a36aecbd7b05>, line 1)",
     "output_type": "error",
     "traceback": [
      "\u001b[0;36m  File \u001b[0;32m\"<ipython-input-18-a36aecbd7b05>\"\u001b[0;36m, line \u001b[0;32m1\u001b[0m\n\u001b[0;31m    print df.head(3)\u001b[0m\n\u001b[0m           ^\u001b[0m\n\u001b[0;31mSyntaxError\u001b[0m\u001b[0;31m:\u001b[0m invalid syntax\n"
     ]
    }
   ],
   "source": []
  },
  {
   "cell_type": "code",
   "execution_count": null,
   "metadata": {
    "collapsed": true
   },
   "outputs": [],
   "source": []
  },
  {
   "cell_type": "code",
   "execution_count": 12,
   "metadata": {
    "collapsed": false
   },
   "outputs": [
    {
     "name": "stdout",
     "output_type": "stream",
     "text": [
      "338632\n"
     ]
    }
   ],
   "source": [
    "print(data.size)"
   ]
  },
  {
   "cell_type": "code",
   "execution_count": null,
   "metadata": {
    "collapsed": true
   },
   "outputs": [],
   "source": []
  },
  {
   "cell_type": "code",
   "execution_count": null,
   "metadata": {
    "collapsed": true
   },
   "outputs": [],
   "source": []
  },
  {
   "cell_type": "code",
   "execution_count": null,
   "metadata": {
    "collapsed": true
   },
   "outputs": [],
   "source": []
  },
  {
   "cell_type": "code",
   "execution_count": null,
   "metadata": {
    "collapsed": true
   },
   "outputs": [],
   "source": []
  },
  {
   "cell_type": "code",
   "execution_count": null,
   "metadata": {
    "collapsed": true
   },
   "outputs": [],
   "source": []
  },
  {
   "cell_type": "code",
   "execution_count": null,
   "metadata": {
    "collapsed": true
   },
   "outputs": [],
   "source": []
  },
  {
   "cell_type": "code",
   "execution_count": 2,
   "metadata": {
    "collapsed": false
   },
   "outputs": [
    {
     "name": "stdout",
     "output_type": "stream",
     "text": [
      "(100, 2)\n",
      "(100,)\n",
      "[[ 4.21850347  2.23419161]\n",
      " [ 0.90779887  0.45984362]\n",
      " [-0.27652528  5.08127768]\n",
      " [ 0.08848433  2.32299086]\n",
      " [ 3.24329731  1.21460627]]\n",
      "[1 1 0 0 1]\n"
     ]
    }
   ],
   "source": []
  },
  {
   "cell_type": "markdown",
   "metadata": {},
   "source": [
    "As the data is two-dimensional, we can plot each sample as a point in two-dimensional space, with the first feature being the x-axis and the second feature being the y-axis."
   ]
  },
  {
   "cell_type": "code",
   "execution_count": 15,
   "metadata": {
    "collapsed": false
   },
   "outputs": [
    {
     "ename": "ValueError",
     "evalue": "Color array must be two-dimensional",
     "output_type": "error",
     "traceback": [
      "\u001b[0;31m---------------------------------------------------------------------------\u001b[0m",
      "\u001b[0;31mValueError\u001b[0m                                Traceback (most recent call last)",
      "\u001b[0;32m/Users/yalcin.yenigun/anaconda/lib/python3.5/site-packages/matplotlib/colors.py\u001b[0m in \u001b[0;36mto_rgba\u001b[0;34m(self, arg, alpha)\u001b[0m\n\u001b[1;32m    367\u001b[0m                     raise ValueError(\n\u001b[0;32m--> 368\u001b[0;31m                             'length of rgba sequence should be either 3 or 4')\n\u001b[0m\u001b[1;32m    369\u001b[0m             \u001b[0;32melse\u001b[0m\u001b[0;34m:\u001b[0m\u001b[0;34m\u001b[0m\u001b[0m\n",
      "\u001b[0;31mValueError\u001b[0m: length of rgba sequence should be either 3 or 4",
      "\nDuring handling of the above exception, another exception occurred:\n",
      "\u001b[0;31mValueError\u001b[0m                                Traceback (most recent call last)",
      "\u001b[0;32m/Users/yalcin.yenigun/anaconda/lib/python3.5/site-packages/matplotlib/colors.py\u001b[0m in \u001b[0;36mto_rgba_array\u001b[0;34m(self, c, alpha)\u001b[0m\n\u001b[1;32m    398\u001b[0m             \u001b[0;31m# Single value? Put it in an array with a single row.\u001b[0m\u001b[0;34m\u001b[0m\u001b[0;34m\u001b[0m\u001b[0m\n\u001b[0;32m--> 399\u001b[0;31m             \u001b[0;32mreturn\u001b[0m \u001b[0mnp\u001b[0m\u001b[0;34m.\u001b[0m\u001b[0marray\u001b[0m\u001b[0;34m(\u001b[0m\u001b[0;34m[\u001b[0m\u001b[0mself\u001b[0m\u001b[0;34m.\u001b[0m\u001b[0mto_rgba\u001b[0m\u001b[0;34m(\u001b[0m\u001b[0mc\u001b[0m\u001b[0;34m,\u001b[0m \u001b[0malpha\u001b[0m\u001b[0;34m)\u001b[0m\u001b[0;34m]\u001b[0m\u001b[0;34m,\u001b[0m \u001b[0mdtype\u001b[0m\u001b[0;34m=\u001b[0m\u001b[0mnp\u001b[0m\u001b[0;34m.\u001b[0m\u001b[0mfloat\u001b[0m\u001b[0;34m)\u001b[0m\u001b[0;34m\u001b[0m\u001b[0m\n\u001b[0m\u001b[1;32m    400\u001b[0m         \u001b[0;32mexcept\u001b[0m \u001b[0mValueError\u001b[0m\u001b[0;34m:\u001b[0m\u001b[0;34m\u001b[0m\u001b[0m\n",
      "\u001b[0;32m/Users/yalcin.yenigun/anaconda/lib/python3.5/site-packages/matplotlib/colors.py\u001b[0m in \u001b[0;36mto_rgba\u001b[0;34m(self, arg, alpha)\u001b[0m\n\u001b[1;32m    375\u001b[0m             raise ValueError(\n\u001b[0;32m--> 376\u001b[0;31m                 'to_rgba: Invalid rgba arg \"%s\"\\n%s' % (str(arg), exc))\n\u001b[0m\u001b[1;32m    377\u001b[0m \u001b[0;34m\u001b[0m\u001b[0m\n",
      "\u001b[0;31mValueError\u001b[0m: to_rgba: Invalid rgba arg \"[1 1 0 0 1 0 0 1 0 1 0 1 0 0 1 1 1 0 1 1 0 0 1 0 1 0 1 0 0 1 1 0 1 1 1 0 1\n 1 0 1 0 0 0 0 1 1 1 1 0 0 1 1 0 0 0 0 0 1 1 1 1 0 0 1 0 1 0 0 1 0 0 1 1 0\n 0 0 1 1 0 0 1 0 0 0 0 0 1 0 1 1 1 1 1 1 0 0 1 1 0 1]\"\nlength of rgba sequence should be either 3 or 4",
      "\nDuring handling of the above exception, another exception occurred:\n",
      "\u001b[0;31mValueError\u001b[0m                                Traceback (most recent call last)",
      "\u001b[0;32m<ipython-input-15-dca463df0fc0>\u001b[0m in \u001b[0;36m<module>\u001b[0;34m()\u001b[0m\n\u001b[0;32m----> 1\u001b[0;31m \u001b[0mplt\u001b[0m\u001b[0;34m.\u001b[0m\u001b[0mscatter\u001b[0m\u001b[0;34m(\u001b[0m\u001b[0mdata\u001b[0m\u001b[0;34m[\u001b[0m\u001b[0;34m:\u001b[0m\u001b[0;34m,\u001b[0m \u001b[0;36m11\u001b[0m\u001b[0;34m]\u001b[0m\u001b[0;34m,\u001b[0m \u001b[0mdata\u001b[0m\u001b[0;34m[\u001b[0m\u001b[0;34m:\u001b[0m\u001b[0;34m,\u001b[0m \u001b[0;36m12\u001b[0m\u001b[0;34m]\u001b[0m\u001b[0;34m,\u001b[0m \u001b[0mc\u001b[0m\u001b[0;34m=\u001b[0m\u001b[0my\u001b[0m\u001b[0;34m,\u001b[0m \u001b[0ms\u001b[0m\u001b[0;34m=\u001b[0m\u001b[0;36m40\u001b[0m\u001b[0;34m)\u001b[0m\u001b[0;34m\u001b[0m\u001b[0m\n\u001b[0m\u001b[1;32m      2\u001b[0m \u001b[0mplt\u001b[0m\u001b[0;34m.\u001b[0m\u001b[0mxlabel\u001b[0m\u001b[0;34m(\u001b[0m\u001b[0;34m\"first feature\"\u001b[0m\u001b[0;34m)\u001b[0m\u001b[0;34m\u001b[0m\u001b[0m\n\u001b[1;32m      3\u001b[0m \u001b[0mplt\u001b[0m\u001b[0;34m.\u001b[0m\u001b[0mylabel\u001b[0m\u001b[0;34m(\u001b[0m\u001b[0;34m\"second feature\"\u001b[0m\u001b[0;34m)\u001b[0m\u001b[0;34m\u001b[0m\u001b[0m\n",
      "\u001b[0;32m/Users/yalcin.yenigun/anaconda/lib/python3.5/site-packages/matplotlib/pyplot.py\u001b[0m in \u001b[0;36mscatter\u001b[0;34m(x, y, s, c, marker, cmap, norm, vmin, vmax, alpha, linewidths, verts, edgecolors, hold, data, **kwargs)\u001b[0m\n\u001b[1;32m   3256\u001b[0m                          \u001b[0mvmin\u001b[0m\u001b[0;34m=\u001b[0m\u001b[0mvmin\u001b[0m\u001b[0;34m,\u001b[0m \u001b[0mvmax\u001b[0m\u001b[0;34m=\u001b[0m\u001b[0mvmax\u001b[0m\u001b[0;34m,\u001b[0m \u001b[0malpha\u001b[0m\u001b[0;34m=\u001b[0m\u001b[0malpha\u001b[0m\u001b[0;34m,\u001b[0m\u001b[0;34m\u001b[0m\u001b[0m\n\u001b[1;32m   3257\u001b[0m                          \u001b[0mlinewidths\u001b[0m\u001b[0;34m=\u001b[0m\u001b[0mlinewidths\u001b[0m\u001b[0;34m,\u001b[0m \u001b[0mverts\u001b[0m\u001b[0;34m=\u001b[0m\u001b[0mverts\u001b[0m\u001b[0;34m,\u001b[0m\u001b[0;34m\u001b[0m\u001b[0m\n\u001b[0;32m-> 3258\u001b[0;31m                          edgecolors=edgecolors, data=data, **kwargs)\n\u001b[0m\u001b[1;32m   3259\u001b[0m     \u001b[0;32mfinally\u001b[0m\u001b[0;34m:\u001b[0m\u001b[0;34m\u001b[0m\u001b[0m\n\u001b[1;32m   3260\u001b[0m         \u001b[0max\u001b[0m\u001b[0;34m.\u001b[0m\u001b[0mhold\u001b[0m\u001b[0;34m(\u001b[0m\u001b[0mwashold\u001b[0m\u001b[0;34m)\u001b[0m\u001b[0;34m\u001b[0m\u001b[0m\n",
      "\u001b[0;32m/Users/yalcin.yenigun/anaconda/lib/python3.5/site-packages/matplotlib/__init__.py\u001b[0m in \u001b[0;36minner\u001b[0;34m(ax, *args, **kwargs)\u001b[0m\n\u001b[1;32m   1817\u001b[0m                     warnings.warn(msg % (label_namer, func.__name__),\n\u001b[1;32m   1818\u001b[0m                                   RuntimeWarning, stacklevel=2)\n\u001b[0;32m-> 1819\u001b[0;31m             \u001b[0;32mreturn\u001b[0m \u001b[0mfunc\u001b[0m\u001b[0;34m(\u001b[0m\u001b[0max\u001b[0m\u001b[0;34m,\u001b[0m \u001b[0;34m*\u001b[0m\u001b[0margs\u001b[0m\u001b[0;34m,\u001b[0m \u001b[0;34m**\u001b[0m\u001b[0mkwargs\u001b[0m\u001b[0;34m)\u001b[0m\u001b[0;34m\u001b[0m\u001b[0m\n\u001b[0m\u001b[1;32m   1820\u001b[0m         \u001b[0mpre_doc\u001b[0m \u001b[0;34m=\u001b[0m \u001b[0minner\u001b[0m\u001b[0;34m.\u001b[0m\u001b[0m__doc__\u001b[0m\u001b[0;34m\u001b[0m\u001b[0m\n\u001b[1;32m   1821\u001b[0m         \u001b[0;32mif\u001b[0m \u001b[0mpre_doc\u001b[0m \u001b[0;32mis\u001b[0m \u001b[0;32mNone\u001b[0m\u001b[0;34m:\u001b[0m\u001b[0;34m\u001b[0m\u001b[0m\n",
      "\u001b[0;32m/Users/yalcin.yenigun/anaconda/lib/python3.5/site-packages/matplotlib/axes/_axes.py\u001b[0m in \u001b[0;36mscatter\u001b[0;34m(self, x, y, s, c, marker, cmap, norm, vmin, vmax, alpha, linewidths, verts, edgecolors, **kwargs)\u001b[0m\n\u001b[1;32m   3864\u001b[0m                 \u001b[0moffsets\u001b[0m\u001b[0;34m=\u001b[0m\u001b[0moffsets\u001b[0m\u001b[0;34m,\u001b[0m\u001b[0;34m\u001b[0m\u001b[0m\n\u001b[1;32m   3865\u001b[0m                 \u001b[0mtransOffset\u001b[0m\u001b[0;34m=\u001b[0m\u001b[0mkwargs\u001b[0m\u001b[0;34m.\u001b[0m\u001b[0mpop\u001b[0m\u001b[0;34m(\u001b[0m\u001b[0;34m'transform'\u001b[0m\u001b[0;34m,\u001b[0m \u001b[0mself\u001b[0m\u001b[0;34m.\u001b[0m\u001b[0mtransData\u001b[0m\u001b[0;34m)\u001b[0m\u001b[0;34m,\u001b[0m\u001b[0;34m\u001b[0m\u001b[0m\n\u001b[0;32m-> 3866\u001b[0;31m                 \u001b[0malpha\u001b[0m\u001b[0;34m=\u001b[0m\u001b[0malpha\u001b[0m\u001b[0;34m\u001b[0m\u001b[0m\n\u001b[0m\u001b[1;32m   3867\u001b[0m                 )\n\u001b[1;32m   3868\u001b[0m         \u001b[0mcollection\u001b[0m\u001b[0;34m.\u001b[0m\u001b[0mset_transform\u001b[0m\u001b[0;34m(\u001b[0m\u001b[0mmtransforms\u001b[0m\u001b[0;34m.\u001b[0m\u001b[0mIdentityTransform\u001b[0m\u001b[0;34m(\u001b[0m\u001b[0;34m)\u001b[0m\u001b[0;34m)\u001b[0m\u001b[0;34m\u001b[0m\u001b[0m\n",
      "\u001b[0;32m/Users/yalcin.yenigun/anaconda/lib/python3.5/site-packages/matplotlib/collections.py\u001b[0m in \u001b[0;36m__init__\u001b[0;34m(self, paths, sizes, **kwargs)\u001b[0m\n\u001b[1;32m    829\u001b[0m         \"\"\"\n\u001b[1;32m    830\u001b[0m \u001b[0;34m\u001b[0m\u001b[0m\n\u001b[0;32m--> 831\u001b[0;31m         \u001b[0mCollection\u001b[0m\u001b[0;34m.\u001b[0m\u001b[0m__init__\u001b[0m\u001b[0;34m(\u001b[0m\u001b[0mself\u001b[0m\u001b[0;34m,\u001b[0m \u001b[0;34m**\u001b[0m\u001b[0mkwargs\u001b[0m\u001b[0;34m)\u001b[0m\u001b[0;34m\u001b[0m\u001b[0m\n\u001b[0m\u001b[1;32m    832\u001b[0m         \u001b[0mself\u001b[0m\u001b[0;34m.\u001b[0m\u001b[0mset_paths\u001b[0m\u001b[0;34m(\u001b[0m\u001b[0mpaths\u001b[0m\u001b[0;34m)\u001b[0m\u001b[0;34m\u001b[0m\u001b[0m\n\u001b[1;32m    833\u001b[0m         \u001b[0mself\u001b[0m\u001b[0;34m.\u001b[0m\u001b[0mset_sizes\u001b[0m\u001b[0;34m(\u001b[0m\u001b[0msizes\u001b[0m\u001b[0;34m)\u001b[0m\u001b[0;34m\u001b[0m\u001b[0m\n",
      "\u001b[0;32m/Users/yalcin.yenigun/anaconda/lib/python3.5/site-packages/matplotlib/collections.py\u001b[0m in \u001b[0;36m__init__\u001b[0;34m(self, edgecolors, facecolors, linewidths, linestyles, antialiaseds, offsets, transOffset, norm, cmap, pickradius, hatch, urls, offset_position, zorder, **kwargs)\u001b[0m\n\u001b[1;32m    115\u001b[0m \u001b[0;34m\u001b[0m\u001b[0m\n\u001b[1;32m    116\u001b[0m         \u001b[0mself\u001b[0m\u001b[0;34m.\u001b[0m\u001b[0mset_edgecolor\u001b[0m\u001b[0;34m(\u001b[0m\u001b[0medgecolors\u001b[0m\u001b[0;34m)\u001b[0m\u001b[0;34m\u001b[0m\u001b[0m\n\u001b[0;32m--> 117\u001b[0;31m         \u001b[0mself\u001b[0m\u001b[0;34m.\u001b[0m\u001b[0mset_facecolor\u001b[0m\u001b[0;34m(\u001b[0m\u001b[0mfacecolors\u001b[0m\u001b[0;34m)\u001b[0m\u001b[0;34m\u001b[0m\u001b[0m\n\u001b[0m\u001b[1;32m    118\u001b[0m         \u001b[0mself\u001b[0m\u001b[0;34m.\u001b[0m\u001b[0mset_linewidth\u001b[0m\u001b[0;34m(\u001b[0m\u001b[0mlinewidths\u001b[0m\u001b[0;34m)\u001b[0m\u001b[0;34m\u001b[0m\u001b[0m\n\u001b[1;32m    119\u001b[0m         \u001b[0mself\u001b[0m\u001b[0;34m.\u001b[0m\u001b[0mset_linestyle\u001b[0m\u001b[0;34m(\u001b[0m\u001b[0mlinestyles\u001b[0m\u001b[0;34m)\u001b[0m\u001b[0;34m\u001b[0m\u001b[0m\n",
      "\u001b[0;32m/Users/yalcin.yenigun/anaconda/lib/python3.5/site-packages/matplotlib/collections.py\u001b[0m in \u001b[0;36mset_facecolor\u001b[0;34m(self, c)\u001b[0m\n\u001b[1;32m    610\u001b[0m             \u001b[0mc\u001b[0m \u001b[0;34m=\u001b[0m \u001b[0mmpl\u001b[0m\u001b[0;34m.\u001b[0m\u001b[0mrcParams\u001b[0m\u001b[0;34m[\u001b[0m\u001b[0;34m'patch.facecolor'\u001b[0m\u001b[0;34m]\u001b[0m\u001b[0;34m\u001b[0m\u001b[0m\n\u001b[1;32m    611\u001b[0m         \u001b[0mself\u001b[0m\u001b[0;34m.\u001b[0m\u001b[0m_facecolors_original\u001b[0m \u001b[0;34m=\u001b[0m \u001b[0mc\u001b[0m\u001b[0;34m\u001b[0m\u001b[0m\n\u001b[0;32m--> 612\u001b[0;31m         \u001b[0mself\u001b[0m\u001b[0;34m.\u001b[0m\u001b[0m_facecolors\u001b[0m \u001b[0;34m=\u001b[0m \u001b[0mmcolors\u001b[0m\u001b[0;34m.\u001b[0m\u001b[0mcolorConverter\u001b[0m\u001b[0;34m.\u001b[0m\u001b[0mto_rgba_array\u001b[0m\u001b[0;34m(\u001b[0m\u001b[0mc\u001b[0m\u001b[0;34m,\u001b[0m \u001b[0mself\u001b[0m\u001b[0;34m.\u001b[0m\u001b[0m_alpha\u001b[0m\u001b[0;34m)\u001b[0m\u001b[0;34m\u001b[0m\u001b[0m\n\u001b[0m\u001b[1;32m    613\u001b[0m         \u001b[0mself\u001b[0m\u001b[0;34m.\u001b[0m\u001b[0mstale\u001b[0m \u001b[0;34m=\u001b[0m \u001b[0;32mTrue\u001b[0m\u001b[0;34m\u001b[0m\u001b[0m\n\u001b[1;32m    614\u001b[0m \u001b[0;34m\u001b[0m\u001b[0m\n",
      "\u001b[0;32m/Users/yalcin.yenigun/anaconda/lib/python3.5/site-packages/matplotlib/colors.py\u001b[0m in \u001b[0;36mto_rgba_array\u001b[0;34m(self, c, alpha)\u001b[0m\n\u001b[1;32m    401\u001b[0m             \u001b[0;32mif\u001b[0m \u001b[0misinstance\u001b[0m\u001b[0;34m(\u001b[0m\u001b[0mc\u001b[0m\u001b[0;34m,\u001b[0m \u001b[0mnp\u001b[0m\u001b[0;34m.\u001b[0m\u001b[0mndarray\u001b[0m\u001b[0;34m)\u001b[0m\u001b[0;34m:\u001b[0m\u001b[0;34m\u001b[0m\u001b[0m\n\u001b[1;32m    402\u001b[0m                 \u001b[0;32mif\u001b[0m \u001b[0mc\u001b[0m\u001b[0;34m.\u001b[0m\u001b[0mndim\u001b[0m \u001b[0;34m!=\u001b[0m \u001b[0;36m2\u001b[0m \u001b[0;32mand\u001b[0m \u001b[0mc\u001b[0m\u001b[0;34m.\u001b[0m\u001b[0mdtype\u001b[0m\u001b[0;34m.\u001b[0m\u001b[0mkind\u001b[0m \u001b[0;32mnot\u001b[0m \u001b[0;32min\u001b[0m \u001b[0;34m'SU'\u001b[0m\u001b[0;34m:\u001b[0m\u001b[0;34m\u001b[0m\u001b[0m\n\u001b[0;32m--> 403\u001b[0;31m                     \u001b[0;32mraise\u001b[0m \u001b[0mValueError\u001b[0m\u001b[0;34m(\u001b[0m\u001b[0;34m\"Color array must be two-dimensional\"\u001b[0m\u001b[0;34m)\u001b[0m\u001b[0;34m\u001b[0m\u001b[0m\n\u001b[0m\u001b[1;32m    404\u001b[0m                 \u001b[0;32mif\u001b[0m \u001b[0;34m(\u001b[0m\u001b[0mc\u001b[0m\u001b[0;34m.\u001b[0m\u001b[0mndim\u001b[0m \u001b[0;34m==\u001b[0m \u001b[0;36m2\u001b[0m \u001b[0;32mand\u001b[0m \u001b[0mc\u001b[0m\u001b[0;34m.\u001b[0m\u001b[0mshape\u001b[0m\u001b[0;34m[\u001b[0m\u001b[0;36m1\u001b[0m\u001b[0;34m]\u001b[0m \u001b[0;34m==\u001b[0m \u001b[0;36m4\u001b[0m \u001b[0;32mand\u001b[0m \u001b[0mc\u001b[0m\u001b[0;34m.\u001b[0m\u001b[0mdtype\u001b[0m\u001b[0;34m.\u001b[0m\u001b[0mkind\u001b[0m \u001b[0;34m==\u001b[0m \u001b[0;34m'f'\u001b[0m\u001b[0;34m)\u001b[0m\u001b[0;34m:\u001b[0m\u001b[0;34m\u001b[0m\u001b[0m\n\u001b[1;32m    405\u001b[0m                     \u001b[0;32mif\u001b[0m \u001b[0;34m(\u001b[0m\u001b[0mc\u001b[0m\u001b[0;34m.\u001b[0m\u001b[0mravel\u001b[0m\u001b[0;34m(\u001b[0m\u001b[0;34m)\u001b[0m \u001b[0;34m>\u001b[0m \u001b[0;36m1\u001b[0m\u001b[0;34m)\u001b[0m\u001b[0;34m.\u001b[0m\u001b[0many\u001b[0m\u001b[0;34m(\u001b[0m\u001b[0;34m)\u001b[0m \u001b[0;32mor\u001b[0m \u001b[0;34m(\u001b[0m\u001b[0mc\u001b[0m\u001b[0;34m.\u001b[0m\u001b[0mravel\u001b[0m\u001b[0;34m(\u001b[0m\u001b[0;34m)\u001b[0m \u001b[0;34m<\u001b[0m \u001b[0;36m0\u001b[0m\u001b[0;34m)\u001b[0m\u001b[0;34m.\u001b[0m\u001b[0many\u001b[0m\u001b[0;34m(\u001b[0m\u001b[0;34m)\u001b[0m\u001b[0;34m:\u001b[0m\u001b[0;34m\u001b[0m\u001b[0m\n",
      "\u001b[0;31mValueError\u001b[0m: Color array must be two-dimensional"
     ]
    },
    {
     "data": {
      "image/png": "[encoded data removed]",
      "text/plain": [
       "<matplotlib.figure.Figure at 0x10fd45588>"
      ]
     },
     "metadata": {},
     "output_type": "display_data"
    }
   ],
   "source": [
    "plt.scatter(data[:, 11], data[:, 12], c=y, s=40)\n",
    "plt.xlabel(\"first feature\")\n",
    "plt.ylabel(\"second feature\")"
   ]
  },
  {
   "cell_type": "code",
   "execution_count": null,
   "metadata": {
    "collapsed": true
   },
   "outputs": [],
   "source": []
  },
  {
   "cell_type": "code",
   "execution_count": null,
   "metadata": {
    "collapsed": true
   },
   "outputs": [],
   "source": []
  },
  {
   "cell_type": "markdown",
   "metadata": {},
   "source": [
    "As classification is a supervised task, and we are interested in how well the model generalizes, we split our data into a training set,\n",
    "to built the model from, and a test-set, to evaluate how well our model performs on new data. The ``train_test_split`` function form the ``cross_validation`` module does that for us, by randomly splitting of 25% of the data for testing.\n",
    "<img src=\"figures/train_test_split.svg\" width=\"100%\">\n"
   ]
  },
  {
   "cell_type": "code",
   "execution_count": null,
   "metadata": {
    "collapsed": true
   },
   "outputs": [],
   "source": [
    "from sklearn.cross_validation import train_test_split\n",
    "X_train, X_test, y_train, y_test = train_test_split(X, y, random_state=0)"
   ]
  },
  {
   "cell_type": "markdown",
   "metadata": {},
   "source": [
    "### The scikit-learn estimator API\n",
    "<img src=\"figures/supervised_workflow.svg\" width=\"100%\">\n"
   ]
  },
  {
   "cell_type": "markdown",
   "metadata": {},
   "source": [
    "Every algorithm is exposed in scikit-learn via an ''Estimator'' object. For instance a logistic regression is:"
   ]
  },
  {
   "cell_type": "code",
   "execution_count": null,
   "metadata": {
    "collapsed": false
   },
   "outputs": [],
   "source": [
    "from sklearn.linear_model import LogisticRegression"
   ]
  },
  {
   "cell_type": "markdown",
   "metadata": {},
   "source": [
    "All models in scikit-learn have a very consistent interface.\n",
    "First, we instantiate the estimator object."
   ]
  },
  {
   "cell_type": "code",
   "execution_count": null,
   "metadata": {
    "collapsed": false
   },
   "outputs": [],
   "source": [
    "classifier = LogisticRegression()"
   ]
  },
  {
   "cell_type": "code",
   "execution_count": null,
   "metadata": {
    "collapsed": false
   },
   "outputs": [],
   "source": [
    "X_train.shape"
   ]
  },
  {
   "cell_type": "code",
   "execution_count": null,
   "metadata": {
    "collapsed": false
   },
   "outputs": [],
   "source": [
    "y_train.shape"
   ]
  },
  {
   "cell_type": "markdown",
   "metadata": {},
   "source": [
    "To built the model from our data, that is to learn how to classify new points, we call the ``fit`` function with the training data, and the corresponding training labels (the desired output for the training data point):"
   ]
  },
  {
   "cell_type": "code",
   "execution_count": null,
   "metadata": {
    "collapsed": false
   },
   "outputs": [],
   "source": [
    "classifier.fit(X_train, y_train)"
   ]
  },
  {
   "cell_type": "markdown",
   "metadata": {},
   "source": [
    "We can then apply the model to unseen data and use the model to predict the estimated outcome using the ``predict`` method:"
   ]
  },
  {
   "cell_type": "code",
   "execution_count": null,
   "metadata": {
    "collapsed": false
   },
   "outputs": [],
   "source": [
    "prediction = classifier.predict(X_test)"
   ]
  },
  {
   "cell_type": "markdown",
   "metadata": {},
   "source": [
    "We can compare these against the true labels:"
   ]
  },
  {
   "cell_type": "code",
   "execution_count": null,
   "metadata": {
    "collapsed": false
   },
   "outputs": [],
   "source": [
    "print(prediction)\n",
    "print(y_test)"
   ]
  },
  {
   "cell_type": "markdown",
   "metadata": {},
   "source": [
    "We can evaluate our classifier quantitatively by measuring what fraction of predictions is correct. This is called **accuracy**:"
   ]
  },
  {
   "cell_type": "code",
   "execution_count": null,
   "metadata": {
    "collapsed": false
   },
   "outputs": [],
   "source": [
    "np.mean(prediction == y_test)"
   ]
  },
  {
   "cell_type": "markdown",
   "metadata": {},
   "source": [
    "There is also a convenience function , ``score``, that all scikit-learn classifiers have to compute this directly from the test data:\n",
    "    "
   ]
  },
  {
   "cell_type": "code",
   "execution_count": null,
   "metadata": {
    "collapsed": false
   },
   "outputs": [],
   "source": [
    "classifier.score(X_test, y_test)"
   ]
  },
  {
   "cell_type": "markdown",
   "metadata": {},
   "source": [
    "It is often helpful to compare the generalization performance (on the test set) to the performance on the training set:"
   ]
  },
  {
   "cell_type": "code",
   "execution_count": null,
   "metadata": {
    "collapsed": false
   },
   "outputs": [],
   "source": [
    "classifier.score(X_train, y_train)"
   ]
  },
  {
   "cell_type": "markdown",
   "metadata": {},
   "source": [
    "LogisticRegression is a so-called linear model,\n",
    "that means it will create a decision that is linear in the input space. In 2d, this simply means it finds a line to separate the blue from the red:"
   ]
  },
  {
   "cell_type": "code",
   "execution_count": null,
   "metadata": {
    "collapsed": false
   },
   "outputs": [],
   "source": [
    "from figures import plot_2d_separator\n",
    "\n",
    "plt.scatter(X[:, 0], X[:, 1], c=y, s=40)\n",
    "plt.xlabel(\"first feature\")\n",
    "plt.ylabel(\"second feature\")\n",
    "plot_2d_separator(classifier, X)"
   ]
  },
  {
   "cell_type": "markdown",
   "metadata": {},
   "source": [
    "**Estimated parameters**: All the estimated parameters are attributes of the estimator object ending by an underscore. Here, these are the coefficients and the offset of the line:"
   ]
  },
  {
   "cell_type": "code",
   "execution_count": null,
   "metadata": {
    "collapsed": false
   },
   "outputs": [],
   "source": [
    "print(classifier.coef_)\n",
    "print(classifier.intercept_)"
   ]
  },
  {
   "cell_type": "markdown",
   "metadata": {},
   "source": [
    "Another classifier: K Nearest Neighbors\n",
    "------------------------------------------------\n",
    "Another popular and easy to understand classifier is K nearest neighbors (kNN).  It has one of the simplest learning strategies: given a new, unknown observation, look up in your reference database which ones have the closest features and assign the predominant class.\n",
    "\n",
    "The interface is exactly the same as for ``LogisticRegression above``."
   ]
  },
  {
   "cell_type": "code",
   "execution_count": null,
   "metadata": {
    "collapsed": false
   },
   "outputs": [],
   "source": [
    "from sklearn.neighbors import KNeighborsClassifier"
   ]
  },
  {
   "cell_type": "markdown",
   "metadata": {},
   "source": [
    "This time we set a parameter of the KNeighborsClassifier to tell it we only want to look at one nearest neighbor:"
   ]
  },
  {
   "cell_type": "code",
   "execution_count": null,
   "metadata": {
    "collapsed": false
   },
   "outputs": [],
   "source": [
    "knn = KNeighborsClassifier(n_neighbors=1)"
   ]
  },
  {
   "cell_type": "markdown",
   "metadata": {},
   "source": [
    "We fit the model with out training data"
   ]
  },
  {
   "cell_type": "code",
   "execution_count": null,
   "metadata": {
    "collapsed": false
   },
   "outputs": [],
   "source": [
    "knn.fit(X_train, y_train)"
   ]
  },
  {
   "cell_type": "code",
   "execution_count": null,
   "metadata": {
    "collapsed": false
   },
   "outputs": [],
   "source": [
    "plt.scatter(X[:, 0], X[:, 1], c=y, s=40)\n",
    "plt.xlabel(\"first feature\")\n",
    "plt.ylabel(\"second feature\")\n",
    "plot_2d_separator(knn, X)"
   ]
  },
  {
   "cell_type": "code",
   "execution_count": null,
   "metadata": {
    "collapsed": false
   },
   "outputs": [],
   "source": [
    "knn.score(X_test, y_test)"
   ]
  },
  {
   "cell_type": "markdown",
   "metadata": {},
   "source": [
    "Exercise\n",
    "=========\n",
    "Apply the KNeighborsClassifier to the ``iris`` dataset. Play with different values of the ``n_neighbors`` and observe how training and test score change."
   ]
  }
 ],
 "metadata": {
  "anaconda-cloud": {},
  "kernelspec": {
   "display_name": "Python [conda root]",
   "language": "python",
   "name": "conda-root-py"
  },
  "language_info": {
   "codemirror_mode": {
    "name": "ipython",
    "version": 3
   },
   "file_extension": ".py",
   "mimetype": "text/x-python",
   "name": "python",
   "nbconvert_exporter": "python",
   "pygments_lexer": "ipython3",
   "version": "3.5.2"
  }
 },
 "nbformat": 4,
 "nbformat_minor": 0
}
